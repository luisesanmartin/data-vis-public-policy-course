{
 "cells": [
  {
   "cell_type": "markdown",
   "metadata": {},
   "source": [
    "## Libraries"
   ]
  },
  {
   "cell_type": "code",
   "execution_count": 1,
   "metadata": {},
   "outputs": [],
   "source": [
    "import pandas as pd"
   ]
  },
  {
   "cell_type": "markdown",
   "metadata": {},
   "source": [
    "## Dwelling data"
   ]
  },
  {
   "cell_type": "code",
   "execution_count": 2,
   "metadata": {},
   "outputs": [],
   "source": [
    "path = '../../data/raw/ENAHO/'\n",
    "enaho_dwelling_2016_file = path + 'enaho01-2016-100.dta'\n",
    "enaho_dwelling_2017_file = path + 'enaho01-2017-100.dta'\n",
    "enaho_dwelling_2018_file = path + 'enaho01-2018-100.dta'"
   ]
  },
  {
   "cell_type": "code",
   "execution_count": 3,
   "metadata": {},
   "outputs": [],
   "source": [
    "cols_dwelling = ['aÑo', 'conglome', 'vivienda', 'hogar', 'ubigeo', 'nbi1', 'nbi2', 'nbi3', 'factor07']\n",
    "enaho_dwelling_2016 = pd.read_stata(enaho_dwelling_2016_file, columns=cols_dwelling)\n",
    "enaho_dwelling_2017 = pd.read_stata(enaho_dwelling_2017_file, columns=cols_dwelling)\n",
    "enaho_dwelling_2018 = pd.read_stata(enaho_dwelling_2018_file, columns=cols_dwelling)"
   ]
  },
  {
   "cell_type": "code",
   "execution_count": 4,
   "metadata": {},
   "outputs": [],
   "source": [
    "enaho_dwelling = pd.concat([enaho_dwelling_2016,\n",
    "                            enaho_dwelling_2017,\n",
    "                            enaho_dwelling_2018]).reset_index(drop = True)"
   ]
  },
  {
   "cell_type": "code",
   "execution_count": 5,
   "metadata": {},
   "outputs": [],
   "source": [
    "dwelling_names = {'aÑo': 'year',\n",
    "                  'conglome': 'conglomerate',\n",
    "                  'vivienda': 'house',\n",
    "                  'hogar': 'household',\n",
    "                  'ubigeo': 'IDDIST',\n",
    "                  'nbi1': 'inadequate dwelling',\n",
    "                  'nbi2': 'overcrowded dwelling',\n",
    "                  'nbi3': 'no water/sewage connection',\n",
    "                  'factor07': 'hh weight'}\n",
    "enaho_dwelling = enaho_dwelling.rename(columns = dwelling_names)"
   ]
  },
  {
   "cell_type": "code",
   "execution_count": 6,
   "metadata": {},
   "outputs": [],
   "source": [
    "enaho_dwelling = enaho_dwelling[enaho_dwelling['IDDIST'].apply(lambda x: x[:4] == '1501' or x[:2] == '07')]\n",
    "enaho_dwelling = enaho_dwelling[(enaho_dwelling['inadequate dwelling'].notna()) & \\\n",
    "                                (enaho_dwelling['overcrowded dwelling'].notna()) & \\\n",
    "                                (enaho_dwelling['no water/sewage connection'].notna())]"
   ]
  },
  {
   "cell_type": "code",
   "execution_count": 7,
   "metadata": {},
   "outputs": [],
   "source": [
    "enaho_dwelling.loc[(enaho_dwelling['inadequate dwelling'] == 'vivienda inadecuada') | \\\n",
    "                   (enaho_dwelling['overcrowded dwelling'] == 'vivienda con hacinamiento') | \\\n",
    "                   (enaho_dwelling['overcrowded dwelling'] == 'vivienda hacinada') | \\\n",
    "                   (enaho_dwelling['no water/sewage connection'] == 'hogares con vivienda sin servicios hogienicos') | \\\n",
    "                   (enaho_dwelling['no water/sewage connection'] == 'vivienda sin servicios higienicos'),\n",
    "                   'bad dwelling'] = 1\n",
    "enaho_dwelling.loc[(enaho_dwelling['bad dwelling'].isna(), 'bad dwelling')] = 0"
   ]
  },
  {
   "cell_type": "code",
   "execution_count": 8,
   "metadata": {},
   "outputs": [
    {
     "data": {
      "text/html": [
       "<div>\n",
       "<style scoped>\n",
       "    .dataframe tbody tr th:only-of-type {\n",
       "        vertical-align: middle;\n",
       "    }\n",
       "\n",
       "    .dataframe tbody tr th {\n",
       "        vertical-align: top;\n",
       "    }\n",
       "\n",
       "    .dataframe thead th {\n",
       "        text-align: right;\n",
       "    }\n",
       "</style>\n",
       "<table border=\"1\" class=\"dataframe\">\n",
       "  <thead>\n",
       "    <tr style=\"text-align: right;\">\n",
       "      <th></th>\n",
       "      <th>year</th>\n",
       "      <th>conglomerate</th>\n",
       "      <th>house</th>\n",
       "      <th>household</th>\n",
       "      <th>IDDIST</th>\n",
       "      <th>inadequate dwelling</th>\n",
       "      <th>overcrowded dwelling</th>\n",
       "      <th>no water/sewage connection</th>\n",
       "      <th>hh weight</th>\n",
       "      <th>bad dwelling</th>\n",
       "    </tr>\n",
       "  </thead>\n",
       "  <tbody>\n",
       "    <tr>\n",
       "      <th>579</th>\n",
       "      <td>2016</td>\n",
       "      <td>001652</td>\n",
       "      <td>003</td>\n",
       "      <td>11</td>\n",
       "      <td>070101</td>\n",
       "      <td>vivienda adecuada</td>\n",
       "      <td>vivienda sin hacinamiento</td>\n",
       "      <td>hogares con vivienda con servicios higienicos</td>\n",
       "      <td>330.041718</td>\n",
       "      <td>0.0</td>\n",
       "    </tr>\n",
       "    <tr>\n",
       "      <th>581</th>\n",
       "      <td>2016</td>\n",
       "      <td>001652</td>\n",
       "      <td>042</td>\n",
       "      <td>11</td>\n",
       "      <td>070101</td>\n",
       "      <td>vivienda adecuada</td>\n",
       "      <td>vivienda sin hacinamiento</td>\n",
       "      <td>hogares con vivienda con servicios higienicos</td>\n",
       "      <td>330.041718</td>\n",
       "      <td>0.0</td>\n",
       "    </tr>\n",
       "    <tr>\n",
       "      <th>582</th>\n",
       "      <td>2016</td>\n",
       "      <td>001652</td>\n",
       "      <td>064</td>\n",
       "      <td>11</td>\n",
       "      <td>070101</td>\n",
       "      <td>vivienda adecuada</td>\n",
       "      <td>vivienda sin hacinamiento</td>\n",
       "      <td>hogares con vivienda con servicios higienicos</td>\n",
       "      <td>330.041718</td>\n",
       "      <td>0.0</td>\n",
       "    </tr>\n",
       "    <tr>\n",
       "      <th>584</th>\n",
       "      <td>2016</td>\n",
       "      <td>001652</td>\n",
       "      <td>103</td>\n",
       "      <td>11</td>\n",
       "      <td>070101</td>\n",
       "      <td>vivienda adecuada</td>\n",
       "      <td>vivienda sin hacinamiento</td>\n",
       "      <td>hogares con vivienda con servicios higienicos</td>\n",
       "      <td>330.041718</td>\n",
       "      <td>0.0</td>\n",
       "    </tr>\n",
       "    <tr>\n",
       "      <th>585</th>\n",
       "      <td>2016</td>\n",
       "      <td>001661</td>\n",
       "      <td>011</td>\n",
       "      <td>11</td>\n",
       "      <td>070101</td>\n",
       "      <td>vivienda adecuada</td>\n",
       "      <td>vivienda sin hacinamiento</td>\n",
       "      <td>hogares con vivienda con servicios higienicos</td>\n",
       "      <td>330.041718</td>\n",
       "      <td>0.0</td>\n",
       "    </tr>\n",
       "  </tbody>\n",
       "</table>\n",
       "</div>"
      ],
      "text/plain": [
       "     year conglomerate house household  IDDIST inadequate dwelling  \\\n",
       "579  2016       001652   003        11  070101   vivienda adecuada   \n",
       "581  2016       001652   042        11  070101   vivienda adecuada   \n",
       "582  2016       001652   064        11  070101   vivienda adecuada   \n",
       "584  2016       001652   103        11  070101   vivienda adecuada   \n",
       "585  2016       001661   011        11  070101   vivienda adecuada   \n",
       "\n",
       "          overcrowded dwelling                     no water/sewage connection  \\\n",
       "579  vivienda sin hacinamiento  hogares con vivienda con servicios higienicos   \n",
       "581  vivienda sin hacinamiento  hogares con vivienda con servicios higienicos   \n",
       "582  vivienda sin hacinamiento  hogares con vivienda con servicios higienicos   \n",
       "584  vivienda sin hacinamiento  hogares con vivienda con servicios higienicos   \n",
       "585  vivienda sin hacinamiento  hogares con vivienda con servicios higienicos   \n",
       "\n",
       "      hh weight  bad dwelling  \n",
       "579  330.041718           0.0  \n",
       "581  330.041718           0.0  \n",
       "582  330.041718           0.0  \n",
       "584  330.041718           0.0  \n",
       "585  330.041718           0.0  "
      ]
     },
     "execution_count": 8,
     "metadata": {},
     "output_type": "execute_result"
    }
   ],
   "source": [
    "enaho_dwelling.head()"
   ]
  },
  {
   "cell_type": "code",
   "execution_count": 9,
   "metadata": {},
   "outputs": [
    {
     "data": {
      "text/plain": [
       "0.0    11612\n",
       "1.0      634\n",
       "Name: bad dwelling, dtype: int64"
      ]
     },
     "execution_count": 9,
     "metadata": {},
     "output_type": "execute_result"
    }
   ],
   "source": [
    "enaho_dwelling['bad dwelling'].value_counts()"
   ]
  },
  {
   "cell_type": "markdown",
   "metadata": {},
   "source": [
    "## Collapsing by district"
   ]
  },
  {
   "cell_type": "code",
   "execution_count": 10,
   "metadata": {},
   "outputs": [],
   "source": [
    "def weighted_mean_function_generator(col, weights):\n",
    "\n",
    "    def weighted_mean(df):\n",
    "\n",
    "        col_times_weight = df[col] * df[weights]\n",
    "        weight = df[weights]\n",
    "\n",
    "        return col_times_weight.sum() / weight.sum()\n",
    "\n",
    "    return weighted_mean"
   ]
  },
  {
   "cell_type": "code",
   "execution_count": 11,
   "metadata": {},
   "outputs": [],
   "source": [
    "weighted_mean_bad_dwelling = weighted_mean_function_generator('bad dwelling', 'hh weight')"
   ]
  },
  {
   "cell_type": "code",
   "execution_count": 12,
   "metadata": {},
   "outputs": [],
   "source": [
    "groupby_cols = ['IDDIST']"
   ]
  },
  {
   "cell_type": "code",
   "execution_count": 13,
   "metadata": {},
   "outputs": [],
   "source": [
    "district_bad_dwelling = enaho_dwelling.groupby(groupby_cols).apply(weighted_mean_bad_dwelling).reset_index().rename(columns={0: 'bad dwelling rate'})"
   ]
  },
  {
   "cell_type": "code",
   "execution_count": 14,
   "metadata": {},
   "outputs": [
    {
     "data": {
      "text/html": [
       "<div>\n",
       "<style scoped>\n",
       "    .dataframe tbody tr th:only-of-type {\n",
       "        vertical-align: middle;\n",
       "    }\n",
       "\n",
       "    .dataframe tbody tr th {\n",
       "        vertical-align: top;\n",
       "    }\n",
       "\n",
       "    .dataframe thead th {\n",
       "        text-align: right;\n",
       "    }\n",
       "</style>\n",
       "<table border=\"1\" class=\"dataframe\">\n",
       "  <thead>\n",
       "    <tr style=\"text-align: right;\">\n",
       "      <th></th>\n",
       "      <th>IDDIST</th>\n",
       "      <th>bad dwelling rate</th>\n",
       "    </tr>\n",
       "  </thead>\n",
       "  <tbody>\n",
       "    <tr>\n",
       "      <th>0</th>\n",
       "      <td>070101</td>\n",
       "      <td>0.046902</td>\n",
       "    </tr>\n",
       "    <tr>\n",
       "      <th>1</th>\n",
       "      <td>070102</td>\n",
       "      <td>0.024276</td>\n",
       "    </tr>\n",
       "    <tr>\n",
       "      <th>2</th>\n",
       "      <td>070103</td>\n",
       "      <td>0.024731</td>\n",
       "    </tr>\n",
       "    <tr>\n",
       "      <th>3</th>\n",
       "      <td>070104</td>\n",
       "      <td>0.009583</td>\n",
       "    </tr>\n",
       "    <tr>\n",
       "      <th>4</th>\n",
       "      <td>070105</td>\n",
       "      <td>0.000000</td>\n",
       "    </tr>\n",
       "  </tbody>\n",
       "</table>\n",
       "</div>"
      ],
      "text/plain": [
       "   IDDIST  bad dwelling rate\n",
       "0  070101           0.046902\n",
       "1  070102           0.024276\n",
       "2  070103           0.024731\n",
       "3  070104           0.009583\n",
       "4  070105           0.000000"
      ]
     },
     "execution_count": 14,
     "metadata": {},
     "output_type": "execute_result"
    }
   ],
   "source": [
    "district_bad_dwelling.head()"
   ]
  },
  {
   "cell_type": "code",
   "execution_count": 15,
   "metadata": {},
   "outputs": [],
   "source": [
    "district_bad_dwelling.to_csv('../../data/clean/bad dwelling by district_2016-2018 average.csv', index=False)"
   ]
  }
 ],
 "metadata": {
  "kernelspec": {
   "display_name": "Python 3",
   "language": "python",
   "name": "python3"
  },
  "language_info": {
   "codemirror_mode": {
    "name": "ipython",
    "version": 3
   },
   "file_extension": ".py",
   "mimetype": "text/x-python",
   "name": "python",
   "nbconvert_exporter": "python",
   "pygments_lexer": "ipython3",
   "version": "3.6.9"
  }
 },
 "nbformat": 4,
 "nbformat_minor": 2
}
