{
 "cells": [
  {
   "cell_type": "markdown",
   "metadata": {},
   "source": [
    "# Cleaning the ECE dataset\n",
    "\n",
    "The ECE (Censal Evaluation of Students, in its Spanish acronym) is the national standardized student test conducted by the Ministry of Education of Peru. In this notebook, I will clean the ECE dataset corresponding to the average 2016 Math scores by school for the students in the second year of primary education in public schools in Lima.\n",
    "\n",
    "This dataset comes from a formal request of access to public data I made to the Ministry of Education of Peru in 2018, when I was still living in Lima.\n",
    "\n",
    "I'll start by importing the libraries I'll use."
   ]
  },
  {
   "cell_type": "code",
   "execution_count": 1,
   "metadata": {},
   "outputs": [],
   "source": [
    "import pandas as pd\n",
    "import re"
   ]
  },
  {
   "cell_type": "markdown",
   "metadata": {},
   "source": [
    "Taking a first glance at the data:"
   ]
  },
  {
   "cell_type": "code",
   "execution_count": 2,
   "metadata": {},
   "outputs": [
    {
     "data": {
      "text/html": [
       "<div>\n",
       "<style scoped>\n",
       "    .dataframe tbody tr th:only-of-type {\n",
       "        vertical-align: middle;\n",
       "    }\n",
       "\n",
       "    .dataframe tbody tr th {\n",
       "        vertical-align: top;\n",
       "    }\n",
       "\n",
       "    .dataframe thead th {\n",
       "        text-align: right;\n",
       "    }\n",
       "</style>\n",
       "<table border=\"1\" class=\"dataframe\">\n",
       "  <thead>\n",
       "    <tr style=\"text-align: right;\">\n",
       "      <th></th>\n",
       "      <th>Código Modular</th>\n",
       "      <th>Nombre de I.E.</th>\n",
       "      <th>Código geográfico</th>\n",
       "      <th>Cantidad de alumnos evaluados</th>\n",
       "      <th>Cobertura (%)</th>\n",
       "      <th>Medida promedio de la IE equiparada con 2007</th>\n",
       "    </tr>\n",
       "  </thead>\n",
       "  <tbody>\n",
       "    <tr>\n",
       "      <th>0</th>\n",
       "      <td>207795</td>\n",
       "      <td>5040 PEDRO RUIZ</td>\n",
       "      <td>70101</td>\n",
       "      <td>38</td>\n",
       "      <td>90.476190</td>\n",
       "      <td>624.540697</td>\n",
       "    </tr>\n",
       "    <tr>\n",
       "      <th>1</th>\n",
       "      <td>207803</td>\n",
       "      <td>5041</td>\n",
       "      <td>70103</td>\n",
       "      <td>32</td>\n",
       "      <td>74.418605</td>\n",
       "      <td>672.498894</td>\n",
       "    </tr>\n",
       "    <tr>\n",
       "      <th>2</th>\n",
       "      <td>207845</td>\n",
       "      <td>5031 CESAR VALLEJO</td>\n",
       "      <td>70101</td>\n",
       "      <td>53</td>\n",
       "      <td>94.642857</td>\n",
       "      <td>581.662211</td>\n",
       "    </tr>\n",
       "    <tr>\n",
       "      <th>3</th>\n",
       "      <td>207852</td>\n",
       "      <td>5032 ENRIQUE DEL HORME</td>\n",
       "      <td>70101</td>\n",
       "      <td>52</td>\n",
       "      <td>96.296296</td>\n",
       "      <td>590.868747</td>\n",
       "    </tr>\n",
       "    <tr>\n",
       "      <th>4</th>\n",
       "      <td>207894</td>\n",
       "      <td>5019 - AUGUSTO CAZORLA</td>\n",
       "      <td>70101</td>\n",
       "      <td>68</td>\n",
       "      <td>100.000000</td>\n",
       "      <td>564.494987</td>\n",
       "    </tr>\n",
       "  </tbody>\n",
       "</table>\n",
       "</div>"
      ],
      "text/plain": [
       "   Código Modular          Nombre de I.E.  Código geográfico  \\\n",
       "0          207795         5040 PEDRO RUIZ              70101   \n",
       "1          207803                    5041              70103   \n",
       "2          207845      5031 CESAR VALLEJO              70101   \n",
       "3          207852  5032 ENRIQUE DEL HORME              70101   \n",
       "4          207894  5019 - AUGUSTO CAZORLA              70101   \n",
       "\n",
       "   Cantidad de alumnos evaluados  Cobertura (%)  \\\n",
       "0                             38      90.476190   \n",
       "1                             32      74.418605   \n",
       "2                             53      94.642857   \n",
       "3                             52      96.296296   \n",
       "4                             68     100.000000   \n",
       "\n",
       "   Medida promedio de la IE equiparada con 2007  \n",
       "0                                    624.540697  \n",
       "1                                    672.498894  \n",
       "2                                    581.662211  \n",
       "3                                    590.868747  \n",
       "4                                    564.494987  "
      ]
     },
     "execution_count": 2,
     "metadata": {},
     "output_type": "execute_result"
    }
   ],
   "source": [
    "data_file = '../../data/raw/IE 2P ECE 16_Lima.xlsx'\n",
    "df = pd.read_excel(data_file,\n",
    "                   sheet_name = 'IE 2P ECE 16',\n",
    "                   header = 1,\n",
    "                   skipfooter = 7,\n",
    "                   usecols = [0, 2, 7, 15, 16, 23])\n",
    "df.head()"
   ]
  },
  {
   "cell_type": "markdown",
   "metadata": {},
   "source": [
    "Every data point in this dataframe is a public primary school in Lima Metropolina. These are the columns I've exported:\n",
    "\n",
    "* Codigo modular (official unique school ID)\n",
    "* Nombre de IE (School name)\n",
    "* Codigo geografico (ID of the district where the school is)\n",
    "* Cantidad de alumnos evaluados (number of students who took the test)\n",
    "* Cobertura (percentage of students who took test among all the students in second grade in that school)\n",
    "* Medida promedio (average test score, calibrated to the 2007 test so it is potentially comparable with the results of other years)\n",
    "\n",
    "Now I'll rename the columns according to the data they represent:"
   ]
  },
  {
   "cell_type": "code",
   "execution_count": 3,
   "metadata": {},
   "outputs": [],
   "source": [
    "rename_dict = {'Código Modular': 'school_id',\n",
    "               'Nombre de I.E.': 'school_name',\n",
    "               'Código geográfico': 'IDDIST',\n",
    "               'Cantidad de alumnos evaluados': 'num_test_takers',\n",
    "               'Cobertura (%)': 'test_coverage',\n",
    "               'Medida promedio de la IE equiparada con 2007': 'average_score'}\n",
    "df = df.rename(columns = rename_dict)"
   ]
  },
  {
   "cell_type": "markdown",
   "metadata": {},
   "source": [
    "Finally, I'll need the variable `IDDIST` to be in string format and to contain six characters in all instances."
   ]
  },
  {
   "cell_type": "code",
   "execution_count": 4,
   "metadata": {},
   "outputs": [
    {
     "name": "stderr",
     "output_type": "stream",
     "text": [
      "/home/luis_eduardo/.local/lib/python3.6/site-packages/pandas/core/indexing.py:190: SettingWithCopyWarning: \n",
      "A value is trying to be set on a copy of a slice from a DataFrame\n",
      "\n",
      "See the caveats in the documentation: http://pandas.pydata.org/pandas-docs/stable/indexing.html#indexing-view-versus-copy\n",
      "  self._setitem_with_indexer(indexer, value)\n"
     ]
    }
   ],
   "source": [
    "df['IDDIST'] = df['IDDIST'].astype('str')\n",
    "df['IDDIST'].loc[df['IDDIST'].apply(lambda x: x[0] == '7')] = '0' + df['IDDIST'][df['IDDIST'].apply(lambda x: x[0] == '7')]"
   ]
  },
  {
   "cell_type": "markdown",
   "metadata": {},
   "source": [
    "Looking at this new dataset:"
   ]
  },
  {
   "cell_type": "code",
   "execution_count": 5,
   "metadata": {},
   "outputs": [
    {
     "data": {
      "text/html": [
       "<div>\n",
       "<style scoped>\n",
       "    .dataframe tbody tr th:only-of-type {\n",
       "        vertical-align: middle;\n",
       "    }\n",
       "\n",
       "    .dataframe tbody tr th {\n",
       "        vertical-align: top;\n",
       "    }\n",
       "\n",
       "    .dataframe thead th {\n",
       "        text-align: right;\n",
       "    }\n",
       "</style>\n",
       "<table border=\"1\" class=\"dataframe\">\n",
       "  <thead>\n",
       "    <tr style=\"text-align: right;\">\n",
       "      <th></th>\n",
       "      <th>school_id</th>\n",
       "      <th>school_name</th>\n",
       "      <th>IDDIST</th>\n",
       "      <th>num_test_takers</th>\n",
       "      <th>test_coverage</th>\n",
       "      <th>average_score</th>\n",
       "    </tr>\n",
       "  </thead>\n",
       "  <tbody>\n",
       "    <tr>\n",
       "      <th>0</th>\n",
       "      <td>207795</td>\n",
       "      <td>5040 PEDRO RUIZ</td>\n",
       "      <td>070101</td>\n",
       "      <td>38</td>\n",
       "      <td>90.476190</td>\n",
       "      <td>624.540697</td>\n",
       "    </tr>\n",
       "    <tr>\n",
       "      <th>1</th>\n",
       "      <td>207803</td>\n",
       "      <td>5041</td>\n",
       "      <td>070103</td>\n",
       "      <td>32</td>\n",
       "      <td>74.418605</td>\n",
       "      <td>672.498894</td>\n",
       "    </tr>\n",
       "    <tr>\n",
       "      <th>2</th>\n",
       "      <td>207845</td>\n",
       "      <td>5031 CESAR VALLEJO</td>\n",
       "      <td>070101</td>\n",
       "      <td>53</td>\n",
       "      <td>94.642857</td>\n",
       "      <td>581.662211</td>\n",
       "    </tr>\n",
       "    <tr>\n",
       "      <th>3</th>\n",
       "      <td>207852</td>\n",
       "      <td>5032 ENRIQUE DEL HORME</td>\n",
       "      <td>070101</td>\n",
       "      <td>52</td>\n",
       "      <td>96.296296</td>\n",
       "      <td>590.868747</td>\n",
       "    </tr>\n",
       "    <tr>\n",
       "      <th>4</th>\n",
       "      <td>207894</td>\n",
       "      <td>5019 - AUGUSTO CAZORLA</td>\n",
       "      <td>070101</td>\n",
       "      <td>68</td>\n",
       "      <td>100.000000</td>\n",
       "      <td>564.494987</td>\n",
       "    </tr>\n",
       "  </tbody>\n",
       "</table>\n",
       "</div>"
      ],
      "text/plain": [
       "   school_id             school_name  IDDIST  num_test_takers  test_coverage  \\\n",
       "0     207795         5040 PEDRO RUIZ  070101               38      90.476190   \n",
       "1     207803                    5041  070103               32      74.418605   \n",
       "2     207845      5031 CESAR VALLEJO  070101               53      94.642857   \n",
       "3     207852  5032 ENRIQUE DEL HORME  070101               52      96.296296   \n",
       "4     207894  5019 - AUGUSTO CAZORLA  070101               68     100.000000   \n",
       "\n",
       "   average_score  \n",
       "0     624.540697  \n",
       "1     672.498894  \n",
       "2     581.662211  \n",
       "3     590.868747  \n",
       "4     564.494987  "
      ]
     },
     "execution_count": 5,
     "metadata": {},
     "output_type": "execute_result"
    }
   ],
   "source": [
    "df.head()"
   ]
  },
  {
   "cell_type": "markdown",
   "metadata": {},
   "source": [
    "## Merging with the zones"
   ]
  },
  {
   "cell_type": "code",
   "execution_count": 6,
   "metadata": {},
   "outputs": [],
   "source": [
    "zones_file = '../../data/clean/iddist_zone_lima.csv'\n",
    "zones = pd.read_csv(zones_file, dtype='str')"
   ]
  },
  {
   "cell_type": "code",
   "execution_count": 7,
   "metadata": {},
   "outputs": [
    {
     "data": {
      "text/html": [
       "<div>\n",
       "<style scoped>\n",
       "    .dataframe tbody tr th:only-of-type {\n",
       "        vertical-align: middle;\n",
       "    }\n",
       "\n",
       "    .dataframe tbody tr th {\n",
       "        vertical-align: top;\n",
       "    }\n",
       "\n",
       "    .dataframe thead th {\n",
       "        text-align: right;\n",
       "    }\n",
       "</style>\n",
       "<table border=\"1\" class=\"dataframe\">\n",
       "  <thead>\n",
       "    <tr style=\"text-align: right;\">\n",
       "      <th></th>\n",
       "      <th>school_id</th>\n",
       "      <th>school_name</th>\n",
       "      <th>IDDIST</th>\n",
       "      <th>num_test_takers</th>\n",
       "      <th>test_coverage</th>\n",
       "      <th>average_score</th>\n",
       "      <th>zone</th>\n",
       "    </tr>\n",
       "  </thead>\n",
       "  <tbody>\n",
       "    <tr>\n",
       "      <th>0</th>\n",
       "      <td>207795</td>\n",
       "      <td>5040 PEDRO RUIZ</td>\n",
       "      <td>070101</td>\n",
       "      <td>38</td>\n",
       "      <td>90.476190</td>\n",
       "      <td>624.540697</td>\n",
       "      <td>Port</td>\n",
       "    </tr>\n",
       "    <tr>\n",
       "      <th>1</th>\n",
       "      <td>207845</td>\n",
       "      <td>5031 CESAR VALLEJO</td>\n",
       "      <td>070101</td>\n",
       "      <td>53</td>\n",
       "      <td>94.642857</td>\n",
       "      <td>581.662211</td>\n",
       "      <td>Port</td>\n",
       "    </tr>\n",
       "    <tr>\n",
       "      <th>2</th>\n",
       "      <td>207852</td>\n",
       "      <td>5032 ENRIQUE DEL HORME</td>\n",
       "      <td>070101</td>\n",
       "      <td>52</td>\n",
       "      <td>96.296296</td>\n",
       "      <td>590.868747</td>\n",
       "      <td>Port</td>\n",
       "    </tr>\n",
       "    <tr>\n",
       "      <th>3</th>\n",
       "      <td>207894</td>\n",
       "      <td>5019 - AUGUSTO CAZORLA</td>\n",
       "      <td>070101</td>\n",
       "      <td>68</td>\n",
       "      <td>100.000000</td>\n",
       "      <td>564.494987</td>\n",
       "      <td>Port</td>\n",
       "    </tr>\n",
       "    <tr>\n",
       "      <th>4</th>\n",
       "      <td>207985</td>\n",
       "      <td>5023 ABELARDO GAMARRA</td>\n",
       "      <td>070101</td>\n",
       "      <td>77</td>\n",
       "      <td>98.717949</td>\n",
       "      <td>636.268876</td>\n",
       "      <td>Port</td>\n",
       "    </tr>\n",
       "  </tbody>\n",
       "</table>\n",
       "</div>"
      ],
      "text/plain": [
       "   school_id             school_name  IDDIST  num_test_takers  test_coverage  \\\n",
       "0     207795         5040 PEDRO RUIZ  070101               38      90.476190   \n",
       "1     207845      5031 CESAR VALLEJO  070101               53      94.642857   \n",
       "2     207852  5032 ENRIQUE DEL HORME  070101               52      96.296296   \n",
       "3     207894  5019 - AUGUSTO CAZORLA  070101               68     100.000000   \n",
       "4     207985   5023 ABELARDO GAMARRA  070101               77      98.717949   \n",
       "\n",
       "   average_score  zone  \n",
       "0     624.540697  Port  \n",
       "1     581.662211  Port  \n",
       "2     590.868747  Port  \n",
       "3     564.494987  Port  \n",
       "4     636.268876  Port  "
      ]
     },
     "execution_count": 7,
     "metadata": {},
     "output_type": "execute_result"
    }
   ],
   "source": [
    "df = pd.merge(df, zones, how='inner', on='IDDIST')\n",
    "df.head()"
   ]
  },
  {
   "cell_type": "markdown",
   "metadata": {},
   "source": [
    "## Exporting\n",
    "\n",
    "This is pretty much how I need my data to be for now, so I'll just export this result."
   ]
  },
  {
   "cell_type": "code",
   "execution_count": 8,
   "metadata": {},
   "outputs": [],
   "source": [
    "output_file = '../../data/clean/ECE_by_school_2p_lima_2016.csv'\n",
    "df.to_csv(output_file, index=False)"
   ]
  }
 ],
 "metadata": {
  "kernelspec": {
   "display_name": "Python 3",
   "language": "python",
   "name": "python3"
  },
  "language_info": {
   "codemirror_mode": {
    "name": "ipython",
    "version": 3
   },
   "file_extension": ".py",
   "mimetype": "text/x-python",
   "name": "python",
   "nbconvert_exporter": "python",
   "pygments_lexer": "ipython3",
   "version": "3.6.9"
  }
 },
 "nbformat": 4,
 "nbformat_minor": 4
}
