{
 "cells": [
  {
   "cell_type": "markdown",
   "metadata": {},
   "source": [
    "## Libraries"
   ]
  },
  {
   "cell_type": "code",
   "execution_count": 1,
   "metadata": {},
   "outputs": [],
   "source": [
    "import pandas as pd"
   ]
  },
  {
   "cell_type": "markdown",
   "metadata": {},
   "source": [
    "## Files"
   ]
  },
  {
   "cell_type": "code",
   "execution_count": 2,
   "metadata": {},
   "outputs": [],
   "source": [
    "path = '../../data/raw/ENAHO/'\n",
    "enaho_summary_2016_file = path + 'sumaria-2016.dta'\n",
    "enaho_summary_2017_file = path + 'sumaria-2017.dta'\n",
    "enaho_summary_2018_file = path + 'sumaria-2018.dta'"
   ]
  },
  {
   "cell_type": "code",
   "execution_count": 3,
   "metadata": {},
   "outputs": [],
   "source": [
    "cols_summary = ['aÑo', 'conglome', 'vivienda', 'hogar', 'ubigeo', 'mieperho', 'pobreza', 'factor07']\n",
    "enaho_summary_2016 = pd.read_stata(enaho_summary_2016_file, columns=cols_summary)\n",
    "enaho_summary_2017 = pd.read_stata(enaho_summary_2017_file, columns=cols_summary)\n",
    "enaho_summary_2018 = pd.read_stata(enaho_summary_2018_file, columns=cols_summary)"
   ]
  },
  {
   "cell_type": "code",
   "execution_count": 4,
   "metadata": {},
   "outputs": [],
   "source": [
    "enaho_summary = pd.concat([enaho_summary_2016,\n",
    "                           enaho_summary_2017,\n",
    "                           enaho_summary_2018]).reset_index(drop = True)"
   ]
  },
  {
   "cell_type": "code",
   "execution_count": 5,
   "metadata": {},
   "outputs": [],
   "source": [
    "summary_names = {'aÑo': 'year',\n",
    "                 'conglome': 'conglomerate',\n",
    "                 'vivienda': 'house',\n",
    "                 'hogar': 'household',\n",
    "                 'ubigeo': 'IDDIST',\n",
    "                 'mieperho': 'num hh members',\n",
    "                 'pobreza': 'poverty classification',\n",
    "                 'factor07': 'hh weight'}\n",
    "enaho_summary = enaho_summary.rename(columns = summary_names)"
   ]
  },
  {
   "cell_type": "code",
   "execution_count": 6,
   "metadata": {},
   "outputs": [],
   "source": [
    "enaho_summary = enaho_summary[enaho_summary['IDDIST'].apply(lambda x: x[:4] == '1501' or x[:2] == '07')]\n",
    "enaho_summary = enaho_summary[enaho_summary['poverty classification'].notna()]"
   ]
  },
  {
   "cell_type": "code",
   "execution_count": 7,
   "metadata": {},
   "outputs": [],
   "source": [
    "enaho_summary['hh members weight'] = enaho_summary['hh weight'] * enaho_summary['num hh members']"
   ]
  },
  {
   "cell_type": "code",
   "execution_count": 8,
   "metadata": {},
   "outputs": [],
   "source": [
    "enaho_summary.loc[(enaho_summary['poverty classification'] == 'pobre no extremo') | \\\n",
    "                  (enaho_summary['poverty classification'] == 'pobreno extremo') | \\\n",
    "                  (enaho_summary['poverty classification'] == 'pobre extremo'), 'poverty'] = 1\n",
    "enaho_summary.loc[(enaho_summary['poverty classification'] == 'no pobre'), 'poverty'] = 0"
   ]
  },
  {
   "cell_type": "code",
   "execution_count": 9,
   "metadata": {},
   "outputs": [],
   "source": [
    "enaho_summary.loc[(enaho_summary['poverty classification'] == 'pobre extremo'), 'extreme poverty'] = 1\n",
    "enaho_summary.loc[(enaho_summary['poverty classification'] != 'pobre extremo'), 'extreme poverty'] = 0"
   ]
  },
  {
   "cell_type": "code",
   "execution_count": 10,
   "metadata": {
    "scrolled": true
   },
   "outputs": [
    {
     "data": {
      "text/html": [
       "<div>\n",
       "<style scoped>\n",
       "    .dataframe tbody tr th:only-of-type {\n",
       "        vertical-align: middle;\n",
       "    }\n",
       "\n",
       "    .dataframe tbody tr th {\n",
       "        vertical-align: top;\n",
       "    }\n",
       "\n",
       "    .dataframe thead th {\n",
       "        text-align: right;\n",
       "    }\n",
       "</style>\n",
       "<table border=\"1\" class=\"dataframe\">\n",
       "  <thead>\n",
       "    <tr style=\"text-align: right;\">\n",
       "      <th></th>\n",
       "      <th>year</th>\n",
       "      <th>conglomerate</th>\n",
       "      <th>house</th>\n",
       "      <th>household</th>\n",
       "      <th>IDDIST</th>\n",
       "      <th>num hh members</th>\n",
       "      <th>poverty classification</th>\n",
       "      <th>hh weight</th>\n",
       "      <th>hh members weight</th>\n",
       "      <th>poverty</th>\n",
       "      <th>extreme poverty</th>\n",
       "    </tr>\n",
       "  </thead>\n",
       "  <tbody>\n",
       "    <tr>\n",
       "      <th>457</th>\n",
       "      <td>2016</td>\n",
       "      <td>001652</td>\n",
       "      <td>003</td>\n",
       "      <td>11</td>\n",
       "      <td>070101</td>\n",
       "      <td>2</td>\n",
       "      <td>no pobre</td>\n",
       "      <td>330.041718</td>\n",
       "      <td>660.083435</td>\n",
       "      <td>0.0</td>\n",
       "      <td>0.0</td>\n",
       "    </tr>\n",
       "    <tr>\n",
       "      <th>458</th>\n",
       "      <td>2016</td>\n",
       "      <td>001652</td>\n",
       "      <td>042</td>\n",
       "      <td>11</td>\n",
       "      <td>070101</td>\n",
       "      <td>6</td>\n",
       "      <td>no pobre</td>\n",
       "      <td>330.041718</td>\n",
       "      <td>1980.250244</td>\n",
       "      <td>0.0</td>\n",
       "      <td>0.0</td>\n",
       "    </tr>\n",
       "    <tr>\n",
       "      <th>459</th>\n",
       "      <td>2016</td>\n",
       "      <td>001652</td>\n",
       "      <td>064</td>\n",
       "      <td>11</td>\n",
       "      <td>070101</td>\n",
       "      <td>4</td>\n",
       "      <td>no pobre</td>\n",
       "      <td>330.041718</td>\n",
       "      <td>1320.166870</td>\n",
       "      <td>0.0</td>\n",
       "      <td>0.0</td>\n",
       "    </tr>\n",
       "    <tr>\n",
       "      <th>460</th>\n",
       "      <td>2016</td>\n",
       "      <td>001652</td>\n",
       "      <td>103</td>\n",
       "      <td>11</td>\n",
       "      <td>070101</td>\n",
       "      <td>5</td>\n",
       "      <td>no pobre</td>\n",
       "      <td>330.041718</td>\n",
       "      <td>1650.208618</td>\n",
       "      <td>0.0</td>\n",
       "      <td>0.0</td>\n",
       "    </tr>\n",
       "    <tr>\n",
       "      <th>461</th>\n",
       "      <td>2016</td>\n",
       "      <td>001661</td>\n",
       "      <td>011</td>\n",
       "      <td>11</td>\n",
       "      <td>070101</td>\n",
       "      <td>4</td>\n",
       "      <td>no pobre</td>\n",
       "      <td>330.041718</td>\n",
       "      <td>1320.166870</td>\n",
       "      <td>0.0</td>\n",
       "      <td>0.0</td>\n",
       "    </tr>\n",
       "  </tbody>\n",
       "</table>\n",
       "</div>"
      ],
      "text/plain": [
       "     year conglomerate house household  IDDIST  num hh members  \\\n",
       "457  2016       001652   003        11  070101               2   \n",
       "458  2016       001652   042        11  070101               6   \n",
       "459  2016       001652   064        11  070101               4   \n",
       "460  2016       001652   103        11  070101               5   \n",
       "461  2016       001661   011        11  070101               4   \n",
       "\n",
       "    poverty classification   hh weight  hh members weight  poverty  \\\n",
       "457               no pobre  330.041718         660.083435      0.0   \n",
       "458               no pobre  330.041718        1980.250244      0.0   \n",
       "459               no pobre  330.041718        1320.166870      0.0   \n",
       "460               no pobre  330.041718        1650.208618      0.0   \n",
       "461               no pobre  330.041718        1320.166870      0.0   \n",
       "\n",
       "     extreme poverty  \n",
       "457              0.0  \n",
       "458              0.0  \n",
       "459              0.0  \n",
       "460              0.0  \n",
       "461              0.0  "
      ]
     },
     "execution_count": 10,
     "metadata": {},
     "output_type": "execute_result"
    }
   ],
   "source": [
    "enaho_summary.head()"
   ]
  },
  {
   "cell_type": "code",
   "execution_count": 11,
   "metadata": {},
   "outputs": [
    {
     "data": {
      "text/plain": [
       "no pobre            11298\n",
       "pobre no extremo      658\n",
       "pobreno extremo       270\n",
       "pobre extremo          21\n",
       "Name: poverty classification, dtype: int64"
      ]
     },
     "execution_count": 11,
     "metadata": {},
     "output_type": "execute_result"
    }
   ],
   "source": [
    "enaho_summary['poverty classification'].value_counts()"
   ]
  },
  {
   "cell_type": "markdown",
   "metadata": {},
   "source": [
    "## Collapsing by district"
   ]
  },
  {
   "cell_type": "code",
   "execution_count": 12,
   "metadata": {},
   "outputs": [],
   "source": [
    "def weighted_mean_function_generator(col, weights):\n",
    "\n",
    "    def weighted_mean(df):\n",
    "\n",
    "        col_times_weight = df[col] * df[weights]\n",
    "        weight = df[weights]\n",
    "\n",
    "        return col_times_weight.sum() / weight.sum() * 100\n",
    "\n",
    "    return weighted_mean"
   ]
  },
  {
   "cell_type": "code",
   "execution_count": 13,
   "metadata": {},
   "outputs": [],
   "source": [
    "def absolute_number_function_generator(col, weights):\n",
    "\n",
    "    def absolute_number(df):\n",
    "\n",
    "        col_times_weight = df[col] * df[weights] / 3 #div by three because we group three years\n",
    "\n",
    "        return round(col_times_weight.sum())\n",
    "\n",
    "    return absolute_number"
   ]
  },
  {
   "cell_type": "code",
   "execution_count": 14,
   "metadata": {},
   "outputs": [],
   "source": [
    "weighted_mean_poverty = weighted_mean_function_generator('poverty', 'hh members weight')\n",
    "weighted_mean_extreme_poverty = weighted_mean_function_generator('extreme poverty', 'hh members weight')"
   ]
  },
  {
   "cell_type": "code",
   "execution_count": 15,
   "metadata": {},
   "outputs": [],
   "source": [
    "absolute_poverty = absolute_number_function_generator('poverty', 'hh members weight')\n",
    "absolute_extreme_poverty = absolute_number_function_generator('extreme poverty', 'hh members weight')"
   ]
  },
  {
   "cell_type": "code",
   "execution_count": 16,
   "metadata": {},
   "outputs": [],
   "source": [
    "groupby_cols = ['IDDIST']"
   ]
  },
  {
   "cell_type": "code",
   "execution_count": 17,
   "metadata": {},
   "outputs": [],
   "source": [
    "district_poverty = enaho_summary.groupby(groupby_cols).apply(weighted_mean_poverty).reset_index().rename(columns={0: 'poverty rate'})\n",
    "district_extreme_poverty = enaho_summary.groupby(groupby_cols).apply(weighted_mean_extreme_poverty).reset_index().rename(columns={0: 'extreme poverty rate'})"
   ]
  },
  {
   "cell_type": "code",
   "execution_count": 18,
   "metadata": {},
   "outputs": [],
   "source": [
    "district_abs_poverty = enaho_summary.groupby(groupby_cols).apply(absolute_poverty).reset_index().rename(columns={0: 'absolute poverty'})\n",
    "district_abs_extreme_poverty = enaho_summary.groupby(groupby_cols).apply(absolute_extreme_poverty).reset_index().rename(columns={0: 'absolute extreme poverty'})"
   ]
  },
  {
   "cell_type": "code",
   "execution_count": 19,
   "metadata": {},
   "outputs": [],
   "source": [
    "distric_poverty_rates_avg2016_2018 = pd.merge(district_poverty, district_extreme_poverty, how='inner', on=groupby_cols)\n",
    "distric_poverty_rates_avg2016_2018 = pd.merge(distric_poverty_rates_avg2016_2018, district_abs_poverty, how='inner', on=groupby_cols)\n",
    "distric_poverty_rates_avg2016_2018 = pd.merge(distric_poverty_rates_avg2016_2018, district_abs_extreme_poverty, how='inner', on=groupby_cols)"
   ]
  },
  {
   "cell_type": "code",
   "execution_count": 20,
   "metadata": {},
   "outputs": [
    {
     "data": {
      "text/html": [
       "<div>\n",
       "<style scoped>\n",
       "    .dataframe tbody tr th:only-of-type {\n",
       "        vertical-align: middle;\n",
       "    }\n",
       "\n",
       "    .dataframe tbody tr th {\n",
       "        vertical-align: top;\n",
       "    }\n",
       "\n",
       "    .dataframe thead th {\n",
       "        text-align: right;\n",
       "    }\n",
       "</style>\n",
       "<table border=\"1\" class=\"dataframe\">\n",
       "  <thead>\n",
       "    <tr style=\"text-align: right;\">\n",
       "      <th></th>\n",
       "      <th>IDDIST</th>\n",
       "      <th>poverty rate</th>\n",
       "      <th>extreme poverty rate</th>\n",
       "      <th>absolute poverty</th>\n",
       "      <th>absolute extreme poverty</th>\n",
       "    </tr>\n",
       "  </thead>\n",
       "  <tbody>\n",
       "    <tr>\n",
       "      <th>0</th>\n",
       "      <td>070101</td>\n",
       "      <td>10.580007</td>\n",
       "      <td>0.000000</td>\n",
       "      <td>51465.0</td>\n",
       "      <td>0.0</td>\n",
       "    </tr>\n",
       "    <tr>\n",
       "      <th>1</th>\n",
       "      <td>070102</td>\n",
       "      <td>3.558496</td>\n",
       "      <td>1.005258</td>\n",
       "      <td>1961.0</td>\n",
       "      <td>554.0</td>\n",
       "    </tr>\n",
       "    <tr>\n",
       "      <th>2</th>\n",
       "      <td>070103</td>\n",
       "      <td>9.063425</td>\n",
       "      <td>0.000000</td>\n",
       "      <td>4345.0</td>\n",
       "      <td>0.0</td>\n",
       "    </tr>\n",
       "    <tr>\n",
       "      <th>3</th>\n",
       "      <td>070104</td>\n",
       "      <td>4.566707</td>\n",
       "      <td>0.000000</td>\n",
       "      <td>2296.0</td>\n",
       "      <td>0.0</td>\n",
       "    </tr>\n",
       "    <tr>\n",
       "      <th>4</th>\n",
       "      <td>070105</td>\n",
       "      <td>0.000000</td>\n",
       "      <td>0.000000</td>\n",
       "      <td>0.0</td>\n",
       "      <td>0.0</td>\n",
       "    </tr>\n",
       "  </tbody>\n",
       "</table>\n",
       "</div>"
      ],
      "text/plain": [
       "   IDDIST  poverty rate  extreme poverty rate  absolute poverty  \\\n",
       "0  070101     10.580007              0.000000           51465.0   \n",
       "1  070102      3.558496              1.005258            1961.0   \n",
       "2  070103      9.063425              0.000000            4345.0   \n",
       "3  070104      4.566707              0.000000            2296.0   \n",
       "4  070105      0.000000              0.000000               0.0   \n",
       "\n",
       "   absolute extreme poverty  \n",
       "0                       0.0  \n",
       "1                     554.0  \n",
       "2                       0.0  \n",
       "3                       0.0  \n",
       "4                       0.0  "
      ]
     },
     "execution_count": 20,
     "metadata": {},
     "output_type": "execute_result"
    }
   ],
   "source": [
    "distric_poverty_rates_avg2016_2018.head()"
   ]
  },
  {
   "cell_type": "code",
   "execution_count": 21,
   "metadata": {},
   "outputs": [],
   "source": [
    "distric_poverty_rates_avg2016_2018.to_csv('../../data/clean/poverty by district_2016-2018 average.csv', index=False)"
   ]
  }
 ],
 "metadata": {
  "kernelspec": {
   "display_name": "Python 3",
   "language": "python",
   "name": "python3"
  },
  "language_info": {
   "codemirror_mode": {
    "name": "ipython",
    "version": 3
   },
   "file_extension": ".py",
   "mimetype": "text/x-python",
   "name": "python",
   "nbconvert_exporter": "python",
   "pygments_lexer": "ipython3",
   "version": "3.6.9"
  }
 },
 "nbformat": 4,
 "nbformat_minor": 4
}
