{
 "cells": [
  {
   "cell_type": "markdown",
   "metadata": {},
   "source": [
    "# Grouping districts of Lima Metropolitana into zones\n",
    "\n",
    "I'll use geopandas to group districts of Lima Metropolitana into zones.\n",
    "\n",
    "Importing my libraries:"
   ]
  },
  {
   "cell_type": "code",
   "execution_count": 1,
   "metadata": {},
   "outputs": [],
   "source": [
    "import pandas as pd\n",
    "import geopandas as gpd\n",
    "import re\n",
    "import matplotlib.pyplot as plt"
   ]
  },
  {
   "cell_type": "markdown",
   "metadata": {},
   "source": [
    "I'll start by reading an `xlsX` file with the district populations according to the last census. This file comes from the website of INEI, the National Institute of Statistics of Peru. INEI's files, when they are not survey microdata, are often very messy. That's the case here, and I'll use some data munging to normalize my data in a districts dataframe.\n",
    "\n",
    "## Arranging district population data\n",
    "\n",
    "First, I'll export the file. I use a custom configuration to export only the portion of it that I'm insterested in."
   ]
  },
  {
   "cell_type": "code",
   "execution_count": 2,
   "metadata": {},
   "outputs": [
    {
     "data": {
      "text/html": [
       "<div>\n",
       "<style scoped>\n",
       "    .dataframe tbody tr th:only-of-type {\n",
       "        vertical-align: middle;\n",
       "    }\n",
       "\n",
       "    .dataframe tbody tr th {\n",
       "        vertical-align: top;\n",
       "    }\n",
       "\n",
       "    .dataframe thead th {\n",
       "        text-align: right;\n",
       "    }\n",
       "</style>\n",
       "<table border=\"1\" class=\"dataframe\">\n",
       "  <thead>\n",
       "    <tr style=\"text-align: right;\">\n",
       "      <th></th>\n",
       "      <th>IDDIST</th>\n",
       "      <th>population</th>\n",
       "    </tr>\n",
       "  </thead>\n",
       "  <tbody>\n",
       "    <tr>\n",
       "      <th>0</th>\n",
       "      <td>AREA # 150101</td>\n",
       "      <td>Lima, Lima, distrito: Lima</td>\n",
       "    </tr>\n",
       "    <tr>\n",
       "      <th>1</th>\n",
       "      <td>NaN</td>\n",
       "      <td>NaN</td>\n",
       "    </tr>\n",
       "    <tr>\n",
       "      <th>2</th>\n",
       "      <td>P: Área concepto encuesta</td>\n",
       "      <td>Casos</td>\n",
       "    </tr>\n",
       "    <tr>\n",
       "      <th>3</th>\n",
       "      <td>Urbano encuesta</td>\n",
       "      <td>273142</td>\n",
       "    </tr>\n",
       "    <tr>\n",
       "      <th>4</th>\n",
       "      <td>Total</td>\n",
       "      <td>273142</td>\n",
       "    </tr>\n",
       "  </tbody>\n",
       "</table>\n",
       "</div>"
      ],
      "text/plain": [
       "                      IDDIST                  population\n",
       "0              AREA # 150101  Lima, Lima, distrito: Lima\n",
       "1                        NaN                         NaN\n",
       "2  P: Área concepto encuesta                       Casos\n",
       "3            Urbano encuesta                      273142\n",
       "4                      Total                      273142"
      ]
     },
     "execution_count": 2,
     "metadata": {},
     "output_type": "execute_result"
    }
   ],
   "source": [
    "population_file = '../../data/raw/poblacion distrital lima_censo2017.xlsX'\n",
    "population_df = pd.read_excel(population_file,\n",
    "                              skiprows = 8,\n",
    "                              skipfooter = 10,\n",
    "                              usecols = [1, 2])\n",
    "population_df = population_df.rename(columns = {'Unnamed: 1': 'IDDIST', 'Unnamed: 2': 'population'})\n",
    "population_df.head()"
   ]
  },
  {
   "cell_type": "markdown",
   "metadata": {},
   "source": [
    "This file contains a lot of unnecessary cells. After a visual inspection, I'll proceed with normalizing this dataframe and keeping only the relevant rows."
   ]
  },
  {
   "cell_type": "code",
   "execution_count": 3,
   "metadata": {},
   "outputs": [
    {
     "data": {
      "text/html": [
       "<div>\n",
       "<style scoped>\n",
       "    .dataframe tbody tr th:only-of-type {\n",
       "        vertical-align: middle;\n",
       "    }\n",
       "\n",
       "    .dataframe tbody tr th {\n",
       "        vertical-align: top;\n",
       "    }\n",
       "\n",
       "    .dataframe thead th {\n",
       "        text-align: right;\n",
       "    }\n",
       "</style>\n",
       "<table border=\"1\" class=\"dataframe\">\n",
       "  <thead>\n",
       "    <tr style=\"text-align: right;\">\n",
       "      <th></th>\n",
       "      <th>IDDIST</th>\n",
       "      <th>population</th>\n",
       "    </tr>\n",
       "  </thead>\n",
       "  <tbody>\n",
       "    <tr>\n",
       "      <th>0</th>\n",
       "      <td>AREA # 150101</td>\n",
       "      <td>273142</td>\n",
       "    </tr>\n",
       "    <tr>\n",
       "      <th>1</th>\n",
       "      <td>AREA # 150102</td>\n",
       "      <td>67232</td>\n",
       "    </tr>\n",
       "    <tr>\n",
       "      <th>2</th>\n",
       "      <td>AREA # 150103</td>\n",
       "      <td>624172</td>\n",
       "    </tr>\n",
       "    <tr>\n",
       "      <th>3</th>\n",
       "      <td>AREA # 150104</td>\n",
       "      <td>35379</td>\n",
       "    </tr>\n",
       "    <tr>\n",
       "      <th>4</th>\n",
       "      <td>AREA # 150105</td>\n",
       "      <td>90414</td>\n",
       "    </tr>\n",
       "  </tbody>\n",
       "</table>\n",
       "</div>"
      ],
      "text/plain": [
       "          IDDIST population\n",
       "0  AREA # 150101     273142\n",
       "1  AREA # 150102      67232\n",
       "2  AREA # 150103     624172\n",
       "3  AREA # 150104      35379\n",
       "4  AREA # 150105      90414"
      ]
     },
     "execution_count": 3,
     "metadata": {},
     "output_type": "execute_result"
    }
   ],
   "source": [
    "population_df = population_df[(population_df['IDDIST'] == 'Total') | population_df['IDDIST'].str.contains('AREA #')].reset_index(drop = True)\n",
    "population_df['population'] = population_df.loc[1:]['population'].reset_index(drop = True)\n",
    "population_df = population_df[population_df['IDDIST'].str.contains('AREA #')].reset_index(drop = True)\n",
    "population_df.head()"
   ]
  },
  {
   "cell_type": "markdown",
   "metadata": {},
   "source": [
    "The result we have so far also contains districts of the Lima department that are outside of Lima Metropolitana. Now I'll drop those out and also will only keep the corresponding ID in `IDDIST`."
   ]
  },
  {
   "cell_type": "code",
   "execution_count": 4,
   "metadata": {},
   "outputs": [],
   "source": [
    "population_df['IDDIST'] = population_df['IDDIST'].apply(lambda x: re.sub('AREA # ', '', x))\n",
    "population_df = population_df[population_df['IDDIST'].apply(lambda x: x[:4] == '1501')]\n",
    "population_df['population'] = population_df['population'].astype('int32')"
   ]
  },
  {
   "cell_type": "code",
   "execution_count": 5,
   "metadata": {},
   "outputs": [
    {
     "data": {
      "text/html": [
       "<div>\n",
       "<style scoped>\n",
       "    .dataframe tbody tr th:only-of-type {\n",
       "        vertical-align: middle;\n",
       "    }\n",
       "\n",
       "    .dataframe tbody tr th {\n",
       "        vertical-align: top;\n",
       "    }\n",
       "\n",
       "    .dataframe thead th {\n",
       "        text-align: right;\n",
       "    }\n",
       "</style>\n",
       "<table border=\"1\" class=\"dataframe\">\n",
       "  <thead>\n",
       "    <tr style=\"text-align: right;\">\n",
       "      <th></th>\n",
       "      <th>IDDIST</th>\n",
       "      <th>population</th>\n",
       "    </tr>\n",
       "  </thead>\n",
       "  <tbody>\n",
       "    <tr>\n",
       "      <th>0</th>\n",
       "      <td>150101</td>\n",
       "      <td>273142</td>\n",
       "    </tr>\n",
       "    <tr>\n",
       "      <th>1</th>\n",
       "      <td>150102</td>\n",
       "      <td>67232</td>\n",
       "    </tr>\n",
       "    <tr>\n",
       "      <th>2</th>\n",
       "      <td>150103</td>\n",
       "      <td>624171</td>\n",
       "    </tr>\n",
       "    <tr>\n",
       "      <th>3</th>\n",
       "      <td>150104</td>\n",
       "      <td>35378</td>\n",
       "    </tr>\n",
       "    <tr>\n",
       "      <th>4</th>\n",
       "      <td>150105</td>\n",
       "      <td>90413</td>\n",
       "    </tr>\n",
       "  </tbody>\n",
       "</table>\n",
       "</div>"
      ],
      "text/plain": [
       "   IDDIST  population\n",
       "0  150101      273142\n",
       "1  150102       67232\n",
       "2  150103      624171\n",
       "3  150104       35378\n",
       "4  150105       90413"
      ]
     },
     "execution_count": 5,
     "metadata": {},
     "output_type": "execute_result"
    }
   ],
   "source": [
    "population_df.head()"
   ]
  },
  {
   "cell_type": "markdown",
   "metadata": {},
   "source": [
    "Great. Now I'll replicate this result with the districts of Callao (the port of Lima). Though Callao is a separate department than Lima, it's also part of Lima Metropolitana."
   ]
  },
  {
   "cell_type": "code",
   "execution_count": 6,
   "metadata": {},
   "outputs": [],
   "source": [
    "callao_population_file = '../../data/raw/poblacion distrital callao_censo2017.xlsX'\n",
    "callao_population_df = pd.read_excel(callao_population_file,\n",
    "                              skiprows = 8,\n",
    "                              skipfooter = 9,\n",
    "                              usecols = [1, 2])\n",
    "callao_population_df = callao_population_df.rename(columns = {'Unnamed: 1': 'IDDIST', 'Unnamed: 2': 'population'})"
   ]
  },
  {
   "cell_type": "code",
   "execution_count": 7,
   "metadata": {},
   "outputs": [],
   "source": [
    "callao_population_df = callao_population_df[(callao_population_df['IDDIST'] == 'Total') | callao_population_df['IDDIST'].str.contains('AREA #')].reset_index(drop = True)\n",
    "callao_population_df['population'] = callao_population_df.loc[1:]['population'].reset_index(drop = True)\n",
    "callao_population_df = callao_population_df[callao_population_df['IDDIST'].str.contains('AREA #')].reset_index(drop = True)"
   ]
  },
  {
   "cell_type": "code",
   "execution_count": 8,
   "metadata": {},
   "outputs": [],
   "source": [
    "callao_population_df['IDDIST'] = callao_population_df['IDDIST'].apply(lambda x: re.sub('AREA # ', '', x))\n",
    "callao_population_df['population'] = callao_population_df['population'].astype('int32')"
   ]
  },
  {
   "cell_type": "code",
   "execution_count": 9,
   "metadata": {},
   "outputs": [
    {
     "data": {
      "text/html": [
       "<div>\n",
       "<style scoped>\n",
       "    .dataframe tbody tr th:only-of-type {\n",
       "        vertical-align: middle;\n",
       "    }\n",
       "\n",
       "    .dataframe tbody tr th {\n",
       "        vertical-align: top;\n",
       "    }\n",
       "\n",
       "    .dataframe thead th {\n",
       "        text-align: right;\n",
       "    }\n",
       "</style>\n",
       "<table border=\"1\" class=\"dataframe\">\n",
       "  <thead>\n",
       "    <tr style=\"text-align: right;\">\n",
       "      <th></th>\n",
       "      <th>IDDIST</th>\n",
       "      <th>population</th>\n",
       "    </tr>\n",
       "  </thead>\n",
       "  <tbody>\n",
       "    <tr>\n",
       "      <th>0</th>\n",
       "      <td>070101</td>\n",
       "      <td>479418</td>\n",
       "    </tr>\n",
       "    <tr>\n",
       "      <th>1</th>\n",
       "      <td>070102</td>\n",
       "      <td>77679</td>\n",
       "    </tr>\n",
       "    <tr>\n",
       "      <th>2</th>\n",
       "      <td>070103</td>\n",
       "      <td>44376</td>\n",
       "    </tr>\n",
       "    <tr>\n",
       "      <th>3</th>\n",
       "      <td>070104</td>\n",
       "      <td>62387</td>\n",
       "    </tr>\n",
       "    <tr>\n",
       "      <th>4</th>\n",
       "      <td>070105</td>\n",
       "      <td>3926</td>\n",
       "    </tr>\n",
       "  </tbody>\n",
       "</table>\n",
       "</div>"
      ],
      "text/plain": [
       "   IDDIST  population\n",
       "0  070101      479418\n",
       "1  070102       77679\n",
       "2  070103       44376\n",
       "3  070104       62387\n",
       "4  070105        3926"
      ]
     },
     "execution_count": 9,
     "metadata": {},
     "output_type": "execute_result"
    }
   ],
   "source": [
    "callao_population_df.head()"
   ]
  },
  {
   "cell_type": "markdown",
   "metadata": {},
   "source": [
    "Finally, I'll merge both `population_df` and `callao_population_df`, overwriting the first."
   ]
  },
  {
   "cell_type": "code",
   "execution_count": 10,
   "metadata": {
    "scrolled": true
   },
   "outputs": [
    {
     "data": {
      "text/html": [
       "<div>\n",
       "<style scoped>\n",
       "    .dataframe tbody tr th:only-of-type {\n",
       "        vertical-align: middle;\n",
       "    }\n",
       "\n",
       "    .dataframe tbody tr th {\n",
       "        vertical-align: top;\n",
       "    }\n",
       "\n",
       "    .dataframe thead th {\n",
       "        text-align: right;\n",
       "    }\n",
       "</style>\n",
       "<table border=\"1\" class=\"dataframe\">\n",
       "  <thead>\n",
       "    <tr style=\"text-align: right;\">\n",
       "      <th></th>\n",
       "      <th>IDDIST</th>\n",
       "      <th>population</th>\n",
       "    </tr>\n",
       "  </thead>\n",
       "  <tbody>\n",
       "    <tr>\n",
       "      <th>0</th>\n",
       "      <td>070101</td>\n",
       "      <td>479418</td>\n",
       "    </tr>\n",
       "    <tr>\n",
       "      <th>1</th>\n",
       "      <td>070102</td>\n",
       "      <td>77679</td>\n",
       "    </tr>\n",
       "    <tr>\n",
       "      <th>2</th>\n",
       "      <td>070103</td>\n",
       "      <td>44376</td>\n",
       "    </tr>\n",
       "    <tr>\n",
       "      <th>3</th>\n",
       "      <td>070104</td>\n",
       "      <td>62387</td>\n",
       "    </tr>\n",
       "    <tr>\n",
       "      <th>4</th>\n",
       "      <td>070105</td>\n",
       "      <td>3926</td>\n",
       "    </tr>\n",
       "  </tbody>\n",
       "</table>\n",
       "</div>"
      ],
      "text/plain": [
       "   IDDIST  population\n",
       "0  070101      479418\n",
       "1  070102       77679\n",
       "2  070103       44376\n",
       "3  070104       62387\n",
       "4  070105        3926"
      ]
     },
     "execution_count": 10,
     "metadata": {},
     "output_type": "execute_result"
    }
   ],
   "source": [
    "population_df = pd.concat([callao_population_df, population_df]).reset_index(drop = True)\n",
    "population_df.head()"
   ]
  },
  {
   "cell_type": "markdown",
   "metadata": {},
   "source": [
    "Nice result.\n",
    "\n",
    "# Districts GIS data\n",
    "\n",
    "I'll continue by importing the GIS data of the districts of Peru, conveniently stored in a shapefile downloaded from the INEI 2013 Poverty Map microdata repository."
   ]
  },
  {
   "cell_type": "code",
   "execution_count": 11,
   "metadata": {},
   "outputs": [],
   "source": [
    "districts_file = '../../data/raw/GIS/03 Limite Distrital Abril 2015/DISTRITO_27_04_2015.shp'\n",
    "districts_df = gpd.read_file(districts_file)"
   ]
  },
  {
   "cell_type": "markdown",
   "metadata": {},
   "source": [
    "This shapefile contains all the districts of Peru. I'll filter only the districts in Lima Metropolitana."
   ]
  },
  {
   "cell_type": "code",
   "execution_count": 12,
   "metadata": {},
   "outputs": [],
   "source": [
    "districts_lima_df = districts_df[(districts_df['IDPROV'] == '1501') | (districts_df['IDDPTO'] == '07')].reset_index()"
   ]
  },
  {
   "cell_type": "markdown",
   "metadata": {},
   "source": [
    "Now I'll keep only the columns relevant for me."
   ]
  },
  {
   "cell_type": "code",
   "execution_count": 13,
   "metadata": {},
   "outputs": [
    {
     "data": {
      "text/html": [
       "<div>\n",
       "<style scoped>\n",
       "    .dataframe tbody tr th:only-of-type {\n",
       "        vertical-align: middle;\n",
       "    }\n",
       "\n",
       "    .dataframe tbody tr th {\n",
       "        vertical-align: top;\n",
       "    }\n",
       "\n",
       "    .dataframe thead th {\n",
       "        text-align: right;\n",
       "    }\n",
       "</style>\n",
       "<table border=\"1\" class=\"dataframe\">\n",
       "  <thead>\n",
       "    <tr style=\"text-align: right;\">\n",
       "      <th></th>\n",
       "      <th>IDDIST</th>\n",
       "      <th>NOMBDIST</th>\n",
       "      <th>geometry</th>\n",
       "    </tr>\n",
       "  </thead>\n",
       "  <tbody>\n",
       "    <tr>\n",
       "      <th>0</th>\n",
       "      <td>150119</td>\n",
       "      <td>LURIN</td>\n",
       "      <td>POLYGON ((-76.93986323599995 -12.2477324799998...</td>\n",
       "    </tr>\n",
       "    <tr>\n",
       "      <th>1</th>\n",
       "      <td>150102</td>\n",
       "      <td>ANCON</td>\n",
       "      <td>POLYGON ((-77.00476011945636 -11.6142695392331...</td>\n",
       "    </tr>\n",
       "    <tr>\n",
       "      <th>2</th>\n",
       "      <td>150131</td>\n",
       "      <td>SAN ISIDRO</td>\n",
       "      <td>POLYGON ((-77.02281236099998 -12.0908106049999...</td>\n",
       "    </tr>\n",
       "    <tr>\n",
       "      <th>3</th>\n",
       "      <td>150120</td>\n",
       "      <td>MAGDALENA DEL MAR</td>\n",
       "      <td>POLYGON ((-77.06314261199998 -12.0865429789999...</td>\n",
       "    </tr>\n",
       "    <tr>\n",
       "      <th>4</th>\n",
       "      <td>150130</td>\n",
       "      <td>SAN BORJA</td>\n",
       "      <td>POLYGON ((-76.98169136199994 -12.0846288549999...</td>\n",
       "    </tr>\n",
       "  </tbody>\n",
       "</table>\n",
       "</div>"
      ],
      "text/plain": [
       "   IDDIST           NOMBDIST  \\\n",
       "0  150119              LURIN   \n",
       "1  150102              ANCON   \n",
       "2  150131         SAN ISIDRO   \n",
       "3  150120  MAGDALENA DEL MAR   \n",
       "4  150130          SAN BORJA   \n",
       "\n",
       "                                            geometry  \n",
       "0  POLYGON ((-76.93986323599995 -12.2477324799998...  \n",
       "1  POLYGON ((-77.00476011945636 -11.6142695392331...  \n",
       "2  POLYGON ((-77.02281236099998 -12.0908106049999...  \n",
       "3  POLYGON ((-77.06314261199998 -12.0865429789999...  \n",
       "4  POLYGON ((-76.98169136199994 -12.0846288549999...  "
      ]
     },
     "execution_count": 13,
     "metadata": {},
     "output_type": "execute_result"
    }
   ],
   "source": [
    "cols_to_keep = ['IDDIST',\n",
    "                'NOMBDIST',\n",
    "                'geometry']\n",
    "districts_lima_df = districts_lima_df[cols_to_keep]\n",
    "districts_lima_df.head()"
   ]
  },
  {
   "cell_type": "markdown",
   "metadata": {},
   "source": [
    "Then I'll do an inner merge to add a column with the population of each district. In both `districts_lima_df` and `population_df` the number of districts is 50."
   ]
  },
  {
   "cell_type": "code",
   "execution_count": 14,
   "metadata": {},
   "outputs": [
    {
     "data": {
      "text/plain": [
       "True"
      ]
     },
     "execution_count": 14,
     "metadata": {},
     "output_type": "execute_result"
    }
   ],
   "source": [
    "len(districts_lima_df) == len(population_df)"
   ]
  },
  {
   "cell_type": "code",
   "execution_count": 15,
   "metadata": {},
   "outputs": [
    {
     "data": {
      "text/plain": [
       "50"
      ]
     },
     "execution_count": 15,
     "metadata": {},
     "output_type": "execute_result"
    }
   ],
   "source": [
    "len(districts_lima_df)"
   ]
  },
  {
   "cell_type": "markdown",
   "metadata": {},
   "source": [
    "Merging:"
   ]
  },
  {
   "cell_type": "code",
   "execution_count": 16,
   "metadata": {},
   "outputs": [
    {
     "data": {
      "text/html": [
       "<div>\n",
       "<style scoped>\n",
       "    .dataframe tbody tr th:only-of-type {\n",
       "        vertical-align: middle;\n",
       "    }\n",
       "\n",
       "    .dataframe tbody tr th {\n",
       "        vertical-align: top;\n",
       "    }\n",
       "\n",
       "    .dataframe thead th {\n",
       "        text-align: right;\n",
       "    }\n",
       "</style>\n",
       "<table border=\"1\" class=\"dataframe\">\n",
       "  <thead>\n",
       "    <tr style=\"text-align: right;\">\n",
       "      <th></th>\n",
       "      <th>IDDIST</th>\n",
       "      <th>NOMBDIST</th>\n",
       "      <th>geometry</th>\n",
       "      <th>population</th>\n",
       "    </tr>\n",
       "  </thead>\n",
       "  <tbody>\n",
       "    <tr>\n",
       "      <th>0</th>\n",
       "      <td>150119</td>\n",
       "      <td>LURIN</td>\n",
       "      <td>POLYGON ((-76.93986323599995 -12.2477324799998...</td>\n",
       "      <td>97502</td>\n",
       "    </tr>\n",
       "    <tr>\n",
       "      <th>1</th>\n",
       "      <td>150102</td>\n",
       "      <td>ANCON</td>\n",
       "      <td>POLYGON ((-77.00476011945636 -11.6142695392331...</td>\n",
       "      <td>67232</td>\n",
       "    </tr>\n",
       "    <tr>\n",
       "      <th>2</th>\n",
       "      <td>150131</td>\n",
       "      <td>SAN ISIDRO</td>\n",
       "      <td>POLYGON ((-77.02281236099998 -12.0908106049999...</td>\n",
       "      <td>65332</td>\n",
       "    </tr>\n",
       "    <tr>\n",
       "      <th>3</th>\n",
       "      <td>150120</td>\n",
       "      <td>MAGDALENA DEL MAR</td>\n",
       "      <td>POLYGON ((-77.06314261199998 -12.0865429789999...</td>\n",
       "      <td>61655</td>\n",
       "    </tr>\n",
       "    <tr>\n",
       "      <th>4</th>\n",
       "      <td>150130</td>\n",
       "      <td>SAN BORJA</td>\n",
       "      <td>POLYGON ((-76.98169136199994 -12.0846288549999...</td>\n",
       "      <td>121792</td>\n",
       "    </tr>\n",
       "  </tbody>\n",
       "</table>\n",
       "</div>"
      ],
      "text/plain": [
       "   IDDIST           NOMBDIST  \\\n",
       "0  150119              LURIN   \n",
       "1  150102              ANCON   \n",
       "2  150131         SAN ISIDRO   \n",
       "3  150120  MAGDALENA DEL MAR   \n",
       "4  150130          SAN BORJA   \n",
       "\n",
       "                                            geometry  population  \n",
       "0  POLYGON ((-76.93986323599995 -12.2477324799998...       97502  \n",
       "1  POLYGON ((-77.00476011945636 -11.6142695392331...       67232  \n",
       "2  POLYGON ((-77.02281236099998 -12.0908106049999...       65332  \n",
       "3  POLYGON ((-77.06314261199998 -12.0865429789999...       61655  \n",
       "4  POLYGON ((-76.98169136199994 -12.0846288549999...      121792  "
      ]
     },
     "execution_count": 16,
     "metadata": {},
     "output_type": "execute_result"
    }
   ],
   "source": [
    "districts_lima_df = pd.merge(districts_lima_df, population_df, how='inner', on='IDDIST')\n",
    "districts_lima_df.head()"
   ]
  },
  {
   "cell_type": "markdown",
   "metadata": {},
   "source": [
    "Now I'll define the groups of districts I'll merge into zones. The generation of these zones is somewhat arbitrary, but it's mainly based on geographical proximity and accesibility between districts. It's worth noting that this is a work in progress and changes to this grouping may occur."
   ]
  },
  {
   "cell_type": "code",
   "execution_count": 17,
   "metadata": {},
   "outputs": [],
   "source": [
    "south = ['LURIN',\n",
    "         'VILLA MARIA DEL TRIUNFO',\n",
    "         'SAN JUAN DE MIRAFLORES',\n",
    "         'VILLA EL SALVADOR',\n",
    "         'PACHACAMAC']\n",
    "north = ['ANCON',\n",
    "         'SANTA ROSA',\n",
    "         'CARABAYLLO',\n",
    "         'INDEPENDENCIA',\n",
    "         'SAN MARTIN DE PORRES',\n",
    "         'PUENTE PIEDRA',\n",
    "         'LOS OLIVOS',\n",
    "         'COMAS']\n",
    "east = ['SANTA ANITA',\n",
    "        'CIENEGUILLA',\n",
    "        'ATE',\n",
    "        'LURIGANCHO',\n",
    "        'CHACLACAYO']\n",
    "high_income = ['SAN ISIDRO',\n",
    "               'MAGDALENA DEL MAR',\n",
    "               'SAN BORJA',\n",
    "               'LINCE',\n",
    "               'SANTIAGO DE SURCO',\n",
    "               'PUEBLO LIBRE',\n",
    "               'JESUS MARIA',\n",
    "               'BARRANCO',\n",
    "               'MIRAFLORES',\n",
    "               'SURQUILLO',\n",
    "               'SAN MIGUEL',\n",
    "               'LA MOLINA',\n",
    "               'SAN LUIS',\n",
    "               'CHORRILLOS']\n",
    "port = ['LA PUNTA',\n",
    "        'LA PERLA',\n",
    "        'BELLAVISTA',\n",
    "        'CARMEN DE LA LEGUA REYNOSO',\n",
    "        'CALLAO',\n",
    "        'VENTANILLA',\n",
    "        'MI PERU']\n",
    "old_town = ['LA VICTORIA',\n",
    "            'BREÑA',\n",
    "            'LIMA',\n",
    "            'EL AGUSTINO',\n",
    "            'RIMAC']\n",
    "sjl = ['SAN JUAN DE LURIGANCHO']\n",
    "south_beach = ['PUCUSANA',\n",
    "               'PUNTA HERMOSA',\n",
    "               'PUNTA NEGRA',\n",
    "               'SAN BARTOLO',\n",
    "               'SANTA MARIA DEL MAR']"
   ]
  },
  {
   "cell_type": "markdown",
   "metadata": {},
   "source": [
    "Mapping the districts to the zones in a new column named `zone`:"
   ]
  },
  {
   "cell_type": "code",
   "execution_count": 18,
   "metadata": {},
   "outputs": [
    {
     "name": "stderr",
     "output_type": "stream",
     "text": [
      "/home/luis_eduardo/.local/lib/python3.6/site-packages/pandas/core/indexing.py:190: SettingWithCopyWarning: \n",
      "A value is trying to be set on a copy of a slice from a DataFrame\n",
      "\n",
      "See the caveats in the documentation: http://pandas.pydata.org/pandas-docs/stable/indexing.html#indexing-view-versus-copy\n",
      "  self._setitem_with_indexer(indexer, value)\n"
     ]
    }
   ],
   "source": [
    "districts_lima_df['zone'] = ''\n",
    "districts_lima_df['zone'].loc[districts_lima_df['NOMBDIST'].isin(north)] = 'North Lima'\n",
    "districts_lima_df['zone'].loc[districts_lima_df['NOMBDIST'].isin(south)] = 'South Lima'\n",
    "districts_lima_df['zone'].loc[districts_lima_df['NOMBDIST'].isin(east)] = 'East Lima'\n",
    "districts_lima_df['zone'].loc[districts_lima_df['NOMBDIST'].isin(high_income)] = 'High income Lima'\n",
    "districts_lima_df['zone'].loc[districts_lima_df['NOMBDIST'].isin(port)] = 'Port'\n",
    "districts_lima_df['zone'].loc[districts_lima_df['NOMBDIST'].isin(old_town)] = 'Old town'\n",
    "districts_lima_df['zone'].loc[districts_lima_df['NOMBDIST'].isin(sjl)] = 'San Juan de Lurigancho'\n",
    "districts_lima_df['zone'].loc[districts_lima_df['NOMBDIST'].isin(south_beach)] = 'South beach'"
   ]
  },
  {
   "cell_type": "code",
   "execution_count": 19,
   "metadata": {},
   "outputs": [
    {
     "data": {
      "text/html": [
       "<div>\n",
       "<style scoped>\n",
       "    .dataframe tbody tr th:only-of-type {\n",
       "        vertical-align: middle;\n",
       "    }\n",
       "\n",
       "    .dataframe tbody tr th {\n",
       "        vertical-align: top;\n",
       "    }\n",
       "\n",
       "    .dataframe thead th {\n",
       "        text-align: right;\n",
       "    }\n",
       "</style>\n",
       "<table border=\"1\" class=\"dataframe\">\n",
       "  <thead>\n",
       "    <tr style=\"text-align: right;\">\n",
       "      <th></th>\n",
       "      <th>IDDIST</th>\n",
       "      <th>NOMBDIST</th>\n",
       "      <th>geometry</th>\n",
       "      <th>population</th>\n",
       "      <th>zone</th>\n",
       "    </tr>\n",
       "  </thead>\n",
       "  <tbody>\n",
       "    <tr>\n",
       "      <th>0</th>\n",
       "      <td>150119</td>\n",
       "      <td>LURIN</td>\n",
       "      <td>POLYGON ((-76.93986323599995 -12.2477324799998...</td>\n",
       "      <td>97502</td>\n",
       "      <td>South Lima</td>\n",
       "    </tr>\n",
       "    <tr>\n",
       "      <th>1</th>\n",
       "      <td>150102</td>\n",
       "      <td>ANCON</td>\n",
       "      <td>POLYGON ((-77.00476011945636 -11.6142695392331...</td>\n",
       "      <td>67232</td>\n",
       "      <td>North Lima</td>\n",
       "    </tr>\n",
       "    <tr>\n",
       "      <th>2</th>\n",
       "      <td>150131</td>\n",
       "      <td>SAN ISIDRO</td>\n",
       "      <td>POLYGON ((-77.02281236099998 -12.0908106049999...</td>\n",
       "      <td>65332</td>\n",
       "      <td>High income Lima</td>\n",
       "    </tr>\n",
       "    <tr>\n",
       "      <th>3</th>\n",
       "      <td>150120</td>\n",
       "      <td>MAGDALENA DEL MAR</td>\n",
       "      <td>POLYGON ((-77.06314261199998 -12.0865429789999...</td>\n",
       "      <td>61655</td>\n",
       "      <td>High income Lima</td>\n",
       "    </tr>\n",
       "    <tr>\n",
       "      <th>4</th>\n",
       "      <td>150130</td>\n",
       "      <td>SAN BORJA</td>\n",
       "      <td>POLYGON ((-76.98169136199994 -12.0846288549999...</td>\n",
       "      <td>121792</td>\n",
       "      <td>High income Lima</td>\n",
       "    </tr>\n",
       "  </tbody>\n",
       "</table>\n",
       "</div>"
      ],
      "text/plain": [
       "   IDDIST           NOMBDIST  \\\n",
       "0  150119              LURIN   \n",
       "1  150102              ANCON   \n",
       "2  150131         SAN ISIDRO   \n",
       "3  150120  MAGDALENA DEL MAR   \n",
       "4  150130          SAN BORJA   \n",
       "\n",
       "                                            geometry  population  \\\n",
       "0  POLYGON ((-76.93986323599995 -12.2477324799998...       97502   \n",
       "1  POLYGON ((-77.00476011945636 -11.6142695392331...       67232   \n",
       "2  POLYGON ((-77.02281236099998 -12.0908106049999...       65332   \n",
       "3  POLYGON ((-77.06314261199998 -12.0865429789999...       61655   \n",
       "4  POLYGON ((-76.98169136199994 -12.0846288549999...      121792   \n",
       "\n",
       "               zone  \n",
       "0        South Lima  \n",
       "1        North Lima  \n",
       "2  High income Lima  \n",
       "3  High income Lima  \n",
       "4  High income Lima  "
      ]
     },
     "execution_count": 19,
     "metadata": {},
     "output_type": "execute_result"
    }
   ],
   "source": [
    "districts_lima_df.head()"
   ]
  },
  {
   "cell_type": "markdown",
   "metadata": {},
   "source": [
    "Before proceeding, I'll save the `IDDIST` to `zone` mapping in a csv file -- I'm gonna need it later for other visualizations."
   ]
  },
  {
   "cell_type": "code",
   "execution_count": 20,
   "metadata": {},
   "outputs": [],
   "source": [
    "districts_lima_df[['IDDIST', 'zone']].to_csv('../../data/clean/iddist_zone_lima.csv', index=False)"
   ]
  },
  {
   "cell_type": "markdown",
   "metadata": {},
   "source": [
    "## Final merge of districts into zones\n",
    "\n",
    "First, I'll plot the original districts division:"
   ]
  },
  {
   "cell_type": "code",
   "execution_count": 21,
   "metadata": {},
   "outputs": [
    {
     "data": {
      "text/plain": [
       "<matplotlib.axes._subplots.AxesSubplot at 0x7f8e74ad1358>"
      ]
     },
     "execution_count": 21,
     "metadata": {},
     "output_type": "execute_result"
    },
    {
     "data": {
      "image/png": "[encoded data removed]",
      "text/plain": [
       "<Figure size 504x504 with 1 Axes>"
      ]
     },
     "metadata": {
      "needs_background": "light"
     },
     "output_type": "display_data"
    }
   ],
   "source": [
    "districts_lima_df.plot(figsize=(7, 7))"
   ]
  },
  {
   "cell_type": "markdown",
   "metadata": {},
   "source": [
    "Looks good. Now, I'll dissolve the districts into the zones I previously defined:"
   ]
  },
  {
   "cell_type": "code",
   "execution_count": 22,
   "metadata": {
    "scrolled": true
   },
   "outputs": [
    {
     "data": {
      "text/html": [
       "<div>\n",
       "<style scoped>\n",
       "    .dataframe tbody tr th:only-of-type {\n",
       "        vertical-align: middle;\n",
       "    }\n",
       "\n",
       "    .dataframe tbody tr th {\n",
       "        vertical-align: top;\n",
       "    }\n",
       "\n",
       "    .dataframe thead th {\n",
       "        text-align: right;\n",
       "    }\n",
       "</style>\n",
       "<table border=\"1\" class=\"dataframe\">\n",
       "  <thead>\n",
       "    <tr style=\"text-align: right;\">\n",
       "      <th></th>\n",
       "      <th>zone</th>\n",
       "      <th>geometry</th>\n",
       "      <th>population</th>\n",
       "    </tr>\n",
       "  </thead>\n",
       "  <tbody>\n",
       "    <tr>\n",
       "      <th>0</th>\n",
       "      <td>East Lima</td>\n",
       "      <td>POLYGON ((-76.72221422013411 -11.9996242552709...</td>\n",
       "      <td>1172820</td>\n",
       "    </tr>\n",
       "    <tr>\n",
       "      <th>1</th>\n",
       "      <td>High income Lima</td>\n",
       "      <td>POLYGON ((-77.0397784844929 -12.19333550502605...</td>\n",
       "      <td>1800812</td>\n",
       "    </tr>\n",
       "    <tr>\n",
       "      <th>2</th>\n",
       "      <td>North Lima</td>\n",
       "      <td>POLYGON ((-77.03055437207536 -11.9963939450321...</td>\n",
       "      <td>2623415</td>\n",
       "    </tr>\n",
       "    <tr>\n",
       "      <th>3</th>\n",
       "      <td>Old town</td>\n",
       "      <td>POLYGON ((-77.00303420170269 -12.0625560448050...</td>\n",
       "      <td>943812</td>\n",
       "    </tr>\n",
       "    <tr>\n",
       "      <th>4</th>\n",
       "      <td>Port</td>\n",
       "      <td>POLYGON ((-77.1682220185275 -12.07085061237087...</td>\n",
       "      <td>1046951</td>\n",
       "    </tr>\n",
       "    <tr>\n",
       "      <th>5</th>\n",
       "      <td>San Juan de Lurigancho</td>\n",
       "      <td>POLYGON ((-76.93129909940232 -11.9422455853702...</td>\n",
       "      <td>1114318</td>\n",
       "    </tr>\n",
       "    <tr>\n",
       "      <th>6</th>\n",
       "      <td>South Lima</td>\n",
       "      <td>POLYGON ((-76.66194278681792 -12.1780103824127...</td>\n",
       "      <td>1458644</td>\n",
       "    </tr>\n",
       "    <tr>\n",
       "      <th>7</th>\n",
       "      <td>South beach</td>\n",
       "      <td>POLYGON ((-76.80280281144788 -12.4806145253400...</td>\n",
       "      <td>48479</td>\n",
       "    </tr>\n",
       "  </tbody>\n",
       "</table>\n",
       "</div>"
      ],
      "text/plain": [
       "                     zone                                           geometry  \\\n",
       "0               East Lima  POLYGON ((-76.72221422013411 -11.9996242552709...   \n",
       "1        High income Lima  POLYGON ((-77.0397784844929 -12.19333550502605...   \n",
       "2              North Lima  POLYGON ((-77.03055437207536 -11.9963939450321...   \n",
       "3                Old town  POLYGON ((-77.00303420170269 -12.0625560448050...   \n",
       "4                    Port  POLYGON ((-77.1682220185275 -12.07085061237087...   \n",
       "5  San Juan de Lurigancho  POLYGON ((-76.93129909940232 -11.9422455853702...   \n",
       "6              South Lima  POLYGON ((-76.66194278681792 -12.1780103824127...   \n",
       "7             South beach  POLYGON ((-76.80280281144788 -12.4806145253400...   \n",
       "\n",
       "   population  \n",
       "0     1172820  \n",
       "1     1800812  \n",
       "2     2623415  \n",
       "3      943812  \n",
       "4     1046951  \n",
       "5     1114318  \n",
       "6     1458644  \n",
       "7       48479  "
      ]
     },
     "execution_count": 22,
     "metadata": {},
     "output_type": "execute_result"
    }
   ],
   "source": [
    "districts_lima_df['geometry'] = districts_lima_df['geometry'].buffer(0.0001)\n",
    "zones_lima_df = districts_lima_df.dissolve(by='zone', aggfunc='sum').reset_index()\n",
    "zones_lima_df"
   ]
  },
  {
   "cell_type": "markdown",
   "metadata": {},
   "source": [
    "Taking a peek at the result by population:"
   ]
  },
  {
   "cell_type": "code",
   "execution_count": 23,
   "metadata": {},
   "outputs": [
    {
     "data": {
      "text/plain": [
       "<matplotlib.axes._subplots.AxesSubplot at 0x7f8e74a11438>"
      ]
     },
     "execution_count": 23,
     "metadata": {},
     "output_type": "execute_result"
    },
    {
     "data": {
      "image/png": "[encoded data removed]",
      "text/plain": [
       "<Figure size 504x504 with 2 Axes>"
      ]
     },
     "metadata": {
      "needs_background": "light"
     },
     "output_type": "display_data"
    }
   ],
   "source": [
    "zones_lima_df.plot(figsize=(7, 7), column='population', legend=True, cmap='Blues', edgecolor='Black')"
   ]
  },
  {
   "cell_type": "markdown",
   "metadata": {},
   "source": [
    "Bingo. Finally, I export the results."
   ]
  },
  {
   "cell_type": "code",
   "execution_count": 24,
   "metadata": {},
   "outputs": [],
   "source": [
    "zones_lima_df.to_file('../../data/clean/zones_lima.geojson', driver='GeoJSON', index=False)"
   ]
  }
 ],
 "metadata": {
  "kernelspec": {
   "display_name": "Python 3",
   "language": "python",
   "name": "python3"
  },
  "language_info": {
   "codemirror_mode": {
    "name": "ipython",
    "version": 3
   },
   "file_extension": ".py",
   "mimetype": "text/x-python",
   "name": "python",
   "nbconvert_exporter": "python",
   "pygments_lexer": "ipython3",
   "version": "3.6.9"
  }
 },
 "nbformat": 4,
 "nbformat_minor": 4
}
