{
 "cells": [
  {
   "cell_type": "code",
   "execution_count": 1,
   "metadata": {},
   "outputs": [],
   "source": [
    "import pandas as pd"
   ]
  },
  {
   "cell_type": "markdown",
   "metadata": {},
   "source": [
    "## Files"
   ]
  },
  {
   "cell_type": "code",
   "execution_count": 2,
   "metadata": {},
   "outputs": [],
   "source": [
    "path = '../data/raw/ENAHO/'\n",
    "enaho_dwelling_2014_file = path + 'enaho01-2014-100.dta'\n",
    "enaho_dwelling_2015_file = path + 'enaho01-2015-100.dta'\n",
    "enaho_dwelling_2016_file = path + 'enaho01-2016-100.dta'\n",
    "enaho_dwelling_2017_file = path + 'enaho01-2017-100.dta'\n",
    "enaho_dwelling_2018_file = path + 'enaho01-2018-100.dta'\n",
    "enaho_summary_2014_file = path + 'sumaria-2014.dta'\n",
    "enaho_summary_2015_file = path + 'sumaria-2015.dta'\n",
    "enaho_summary_2016_file = path + 'sumaria-2016.dta'\n",
    "enaho_summary_2017_file = path + 'sumaria-2017.dta'\n",
    "enaho_summary_2018_file = path + 'sumaria-2018.dta'\n",
    "enaho_labor_2018_file = path + 'enaho01a-2018-500.dta'"
   ]
  },
  {
   "cell_type": "markdown",
   "metadata": {},
   "source": [
    "## Dwelling"
   ]
  },
  {
   "cell_type": "code",
   "execution_count": 3,
   "metadata": {},
   "outputs": [],
   "source": [
    "cols_dwelling = ['aÑo', 'conglome', 'vivienda', 'hogar', 'ubigeo', 'result', 'p110', 'factor07']\n",
    "enaho_dwelling_2014 = pd.read_stata(enaho_dwelling_2014_file, columns=cols_dwelling)\n",
    "enaho_dwelling_2015 = pd.read_stata(enaho_dwelling_2015_file, columns=cols_dwelling)\n",
    "enaho_dwelling_2016 = pd.read_stata(enaho_dwelling_2016_file, columns=cols_dwelling)\n",
    "enaho_dwelling_2017 = pd.read_stata(enaho_dwelling_2017_file, columns=cols_dwelling)\n",
    "enaho_dwelling_2018 = pd.read_stata(enaho_dwelling_2018_file, columns=cols_dwelling)"
   ]
  },
  {
   "cell_type": "code",
   "execution_count": 4,
   "metadata": {},
   "outputs": [],
   "source": [
    "enaho_dwelling = pd.concat([enaho_dwelling_2014,\n",
    "                            enaho_dwelling_2015,\n",
    "                            enaho_dwelling_2016,\n",
    "                            enaho_dwelling_2017,\n",
    "                            enaho_dwelling_2018]).reset_index(drop = True)"
   ]
  },
  {
   "cell_type": "code",
   "execution_count": 5,
   "metadata": {},
   "outputs": [],
   "source": [
    "dwelling_names = {'aÑo': 'year',\n",
    "                  'conglome': 'conglomerate',\n",
    "                  'vivienda': 'house',\n",
    "                  'hogar': 'household',\n",
    "                  'ubigeo': 'IDDIST',\n",
    "                  'p110': 'access to water',\n",
    "                  'factor07': 'household weight'}\n",
    "enaho_dwelling = enaho_dwelling.rename(columns = dwelling_names)"
   ]
  },
  {
   "cell_type": "code",
   "execution_count": 6,
   "metadata": {},
   "outputs": [
    {
     "data": {
      "text/html": [
       "<div>\n",
       "<style scoped>\n",
       "    .dataframe tbody tr th:only-of-type {\n",
       "        vertical-align: middle;\n",
       "    }\n",
       "\n",
       "    .dataframe tbody tr th {\n",
       "        vertical-align: top;\n",
       "    }\n",
       "\n",
       "    .dataframe thead th {\n",
       "        text-align: right;\n",
       "    }\n",
       "</style>\n",
       "<table border=\"1\" class=\"dataframe\">\n",
       "  <thead>\n",
       "    <tr style=\"text-align: right;\">\n",
       "      <th></th>\n",
       "      <th>year</th>\n",
       "      <th>conglomerate</th>\n",
       "      <th>house</th>\n",
       "      <th>household</th>\n",
       "      <th>IDDIST</th>\n",
       "      <th>result</th>\n",
       "      <th>access to water</th>\n",
       "      <th>household weight</th>\n",
       "    </tr>\n",
       "  </thead>\n",
       "  <tbody>\n",
       "    <tr>\n",
       "      <th>4179</th>\n",
       "      <td>2014</td>\n",
       "      <td>1650</td>\n",
       "      <td>018</td>\n",
       "      <td>11</td>\n",
       "      <td>070101</td>\n",
       "      <td>incompleta</td>\n",
       "      <td>red pública, dentro de la vivienda</td>\n",
       "      <td>313.410004</td>\n",
       "    </tr>\n",
       "    <tr>\n",
       "      <th>4180</th>\n",
       "      <td>2014</td>\n",
       "      <td>1650</td>\n",
       "      <td>031</td>\n",
       "      <td>11</td>\n",
       "      <td>070101</td>\n",
       "      <td>completa</td>\n",
       "      <td>red pública, dentro de la vivienda</td>\n",
       "      <td>313.410004</td>\n",
       "    </tr>\n",
       "    <tr>\n",
       "      <th>4181</th>\n",
       "      <td>2014</td>\n",
       "      <td>1650</td>\n",
       "      <td>044</td>\n",
       "      <td>11</td>\n",
       "      <td>070101</td>\n",
       "      <td>incompleta</td>\n",
       "      <td>red pública, dentro de la vivienda</td>\n",
       "      <td>313.410004</td>\n",
       "    </tr>\n",
       "    <tr>\n",
       "      <th>4183</th>\n",
       "      <td>2014</td>\n",
       "      <td>1650</td>\n",
       "      <td>081</td>\n",
       "      <td>11</td>\n",
       "      <td>070101</td>\n",
       "      <td>incompleta</td>\n",
       "      <td>red pública, dentro de la vivienda</td>\n",
       "      <td>313.410004</td>\n",
       "    </tr>\n",
       "    <tr>\n",
       "      <th>4185</th>\n",
       "      <td>2014</td>\n",
       "      <td>1652</td>\n",
       "      <td>003</td>\n",
       "      <td>11</td>\n",
       "      <td>070101</td>\n",
       "      <td>completa</td>\n",
       "      <td>red pública, dentro de la vivienda</td>\n",
       "      <td>290.570007</td>\n",
       "    </tr>\n",
       "  </tbody>\n",
       "</table>\n",
       "</div>"
      ],
      "text/plain": [
       "      year conglomerate house household  IDDIST      result  \\\n",
       "4179  2014         1650   018        11  070101  incompleta   \n",
       "4180  2014         1650   031        11  070101    completa   \n",
       "4181  2014         1650   044        11  070101  incompleta   \n",
       "4183  2014         1650   081        11  070101  incompleta   \n",
       "4185  2014         1652   003        11  070101    completa   \n",
       "\n",
       "                         access to water  household weight  \n",
       "4179  red pública, dentro de la vivienda        313.410004  \n",
       "4180  red pública, dentro de la vivienda        313.410004  \n",
       "4181  red pública, dentro de la vivienda        313.410004  \n",
       "4183  red pública, dentro de la vivienda        313.410004  \n",
       "4185  red pública, dentro de la vivienda        290.570007  "
      ]
     },
     "execution_count": 6,
     "metadata": {},
     "output_type": "execute_result"
    }
   ],
   "source": [
    "enaho_dwelling = enaho_dwelling[enaho_dwelling['IDDIST'].apply(lambda x: x[:4] == '1501' or x[:2] == '07')]\n",
    "enaho_dwelling = enaho_dwelling[enaho_dwelling['access to water'].notna()]\n",
    "enaho_dwelling.head()"
   ]
  },
  {
   "cell_type": "markdown",
   "metadata": {},
   "source": [
    "## Summary"
   ]
  },
  {
   "cell_type": "code",
   "execution_count": 7,
   "metadata": {},
   "outputs": [],
   "source": [
    "cols_summary = ['aÑo', 'conglome', 'vivienda', 'hogar', 'ubigeo', 'mieperho']\n",
    "enaho_summary_2014 = pd.read_stata(enaho_summary_2014_file, columns=cols_summary)\n",
    "enaho_summary_2015 = pd.read_stata(enaho_summary_2015_file, columns=cols_summary)\n",
    "enaho_summary_2016 = pd.read_stata(enaho_summary_2016_file, columns=cols_summary)\n",
    "enaho_summary_2017 = pd.read_stata(enaho_summary_2017_file, columns=cols_summary)\n",
    "enaho_summary_2018 = pd.read_stata(enaho_summary_2018_file, columns=cols_summary)"
   ]
  },
  {
   "cell_type": "code",
   "execution_count": 8,
   "metadata": {},
   "outputs": [],
   "source": [
    "enaho_summary = pd.concat([enaho_summary_2014,\n",
    "                           enaho_summary_2015,\n",
    "                           enaho_summary_2016,\n",
    "                           enaho_summary_2017,\n",
    "                           enaho_summary_2018]).reset_index(drop = True)"
   ]
  },
  {
   "cell_type": "code",
   "execution_count": 9,
   "metadata": {},
   "outputs": [],
   "source": [
    "summary_names = {'aÑo': 'year',\n",
    "                 'conglome': 'conglomerate',\n",
    "                 'vivienda': 'house',\n",
    "                 'hogar': 'household',\n",
    "                 'ubigeo': 'IDDIST',\n",
    "                 'mieperho': 'num_hh_members'}\n",
    "enaho_summary = enaho_summary.rename(columns = summary_names)"
   ]
  },
  {
   "cell_type": "code",
   "execution_count": 10,
   "metadata": {},
   "outputs": [
    {
     "data": {
      "text/html": [
       "<div>\n",
       "<style scoped>\n",
       "    .dataframe tbody tr th:only-of-type {\n",
       "        vertical-align: middle;\n",
       "    }\n",
       "\n",
       "    .dataframe tbody tr th {\n",
       "        vertical-align: top;\n",
       "    }\n",
       "\n",
       "    .dataframe thead th {\n",
       "        text-align: right;\n",
       "    }\n",
       "</style>\n",
       "<table border=\"1\" class=\"dataframe\">\n",
       "  <thead>\n",
       "    <tr style=\"text-align: right;\">\n",
       "      <th></th>\n",
       "      <th>year</th>\n",
       "      <th>conglomerate</th>\n",
       "      <th>house</th>\n",
       "      <th>household</th>\n",
       "      <th>IDDIST</th>\n",
       "      <th>num_hh_members</th>\n",
       "    </tr>\n",
       "  </thead>\n",
       "  <tbody>\n",
       "    <tr>\n",
       "      <th>3243</th>\n",
       "      <td>2014</td>\n",
       "      <td>1650</td>\n",
       "      <td>018</td>\n",
       "      <td>11</td>\n",
       "      <td>070101</td>\n",
       "      <td>3</td>\n",
       "    </tr>\n",
       "    <tr>\n",
       "      <th>3244</th>\n",
       "      <td>2014</td>\n",
       "      <td>1650</td>\n",
       "      <td>031</td>\n",
       "      <td>11</td>\n",
       "      <td>070101</td>\n",
       "      <td>4</td>\n",
       "    </tr>\n",
       "    <tr>\n",
       "      <th>3245</th>\n",
       "      <td>2014</td>\n",
       "      <td>1650</td>\n",
       "      <td>044</td>\n",
       "      <td>11</td>\n",
       "      <td>070101</td>\n",
       "      <td>4</td>\n",
       "    </tr>\n",
       "    <tr>\n",
       "      <th>3246</th>\n",
       "      <td>2014</td>\n",
       "      <td>1650</td>\n",
       "      <td>081</td>\n",
       "      <td>11</td>\n",
       "      <td>070101</td>\n",
       "      <td>5</td>\n",
       "    </tr>\n",
       "    <tr>\n",
       "      <th>3247</th>\n",
       "      <td>2014</td>\n",
       "      <td>1652</td>\n",
       "      <td>003</td>\n",
       "      <td>11</td>\n",
       "      <td>070101</td>\n",
       "      <td>2</td>\n",
       "    </tr>\n",
       "  </tbody>\n",
       "</table>\n",
       "</div>"
      ],
      "text/plain": [
       "      year conglomerate house household  IDDIST  num_hh_members\n",
       "3243  2014         1650   018        11  070101               3\n",
       "3244  2014         1650   031        11  070101               4\n",
       "3245  2014         1650   044        11  070101               4\n",
       "3246  2014         1650   081        11  070101               5\n",
       "3247  2014         1652   003        11  070101               2"
      ]
     },
     "execution_count": 10,
     "metadata": {},
     "output_type": "execute_result"
    }
   ],
   "source": [
    "enaho_summary = enaho_summary[enaho_summary['IDDIST'].apply(lambda x: x[:4] == '1501' or x[:2] == '07')]\n",
    "enaho_summary.head()"
   ]
  },
  {
   "cell_type": "markdown",
   "metadata": {},
   "source": [
    "## Merging"
   ]
  },
  {
   "cell_type": "code",
   "execution_count": 11,
   "metadata": {},
   "outputs": [
    {
     "data": {
      "text/html": [
       "<div>\n",
       "<style scoped>\n",
       "    .dataframe tbody tr th:only-of-type {\n",
       "        vertical-align: middle;\n",
       "    }\n",
       "\n",
       "    .dataframe tbody tr th {\n",
       "        vertical-align: top;\n",
       "    }\n",
       "\n",
       "    .dataframe thead th {\n",
       "        text-align: right;\n",
       "    }\n",
       "</style>\n",
       "<table border=\"1\" class=\"dataframe\">\n",
       "  <thead>\n",
       "    <tr style=\"text-align: right;\">\n",
       "      <th></th>\n",
       "      <th>year</th>\n",
       "      <th>conglomerate</th>\n",
       "      <th>house</th>\n",
       "      <th>household</th>\n",
       "      <th>IDDIST</th>\n",
       "      <th>result</th>\n",
       "      <th>access to water</th>\n",
       "      <th>household weight</th>\n",
       "      <th>num_hh_members</th>\n",
       "    </tr>\n",
       "  </thead>\n",
       "  <tbody>\n",
       "    <tr>\n",
       "      <th>0</th>\n",
       "      <td>2014</td>\n",
       "      <td>1650</td>\n",
       "      <td>018</td>\n",
       "      <td>11</td>\n",
       "      <td>070101</td>\n",
       "      <td>incompleta</td>\n",
       "      <td>red pública, dentro de la vivienda</td>\n",
       "      <td>313.410004</td>\n",
       "      <td>3</td>\n",
       "    </tr>\n",
       "    <tr>\n",
       "      <th>1</th>\n",
       "      <td>2014</td>\n",
       "      <td>1650</td>\n",
       "      <td>031</td>\n",
       "      <td>11</td>\n",
       "      <td>070101</td>\n",
       "      <td>completa</td>\n",
       "      <td>red pública, dentro de la vivienda</td>\n",
       "      <td>313.410004</td>\n",
       "      <td>4</td>\n",
       "    </tr>\n",
       "    <tr>\n",
       "      <th>2</th>\n",
       "      <td>2014</td>\n",
       "      <td>1650</td>\n",
       "      <td>044</td>\n",
       "      <td>11</td>\n",
       "      <td>070101</td>\n",
       "      <td>incompleta</td>\n",
       "      <td>red pública, dentro de la vivienda</td>\n",
       "      <td>313.410004</td>\n",
       "      <td>4</td>\n",
       "    </tr>\n",
       "    <tr>\n",
       "      <th>3</th>\n",
       "      <td>2014</td>\n",
       "      <td>1650</td>\n",
       "      <td>081</td>\n",
       "      <td>11</td>\n",
       "      <td>070101</td>\n",
       "      <td>incompleta</td>\n",
       "      <td>red pública, dentro de la vivienda</td>\n",
       "      <td>313.410004</td>\n",
       "      <td>5</td>\n",
       "    </tr>\n",
       "    <tr>\n",
       "      <th>4</th>\n",
       "      <td>2014</td>\n",
       "      <td>1652</td>\n",
       "      <td>003</td>\n",
       "      <td>11</td>\n",
       "      <td>070101</td>\n",
       "      <td>completa</td>\n",
       "      <td>red pública, dentro de la vivienda</td>\n",
       "      <td>290.570007</td>\n",
       "      <td>2</td>\n",
       "    </tr>\n",
       "  </tbody>\n",
       "</table>\n",
       "</div>"
      ],
      "text/plain": [
       "   year conglomerate house household  IDDIST      result  \\\n",
       "0  2014         1650   018        11  070101  incompleta   \n",
       "1  2014         1650   031        11  070101    completa   \n",
       "2  2014         1650   044        11  070101  incompleta   \n",
       "3  2014         1650   081        11  070101  incompleta   \n",
       "4  2014         1652   003        11  070101    completa   \n",
       "\n",
       "                      access to water  household weight  num_hh_members  \n",
       "0  red pública, dentro de la vivienda        313.410004               3  \n",
       "1  red pública, dentro de la vivienda        313.410004               4  \n",
       "2  red pública, dentro de la vivienda        313.410004               4  \n",
       "3  red pública, dentro de la vivienda        313.410004               5  \n",
       "4  red pública, dentro de la vivienda        290.570007               2  "
      ]
     },
     "execution_count": 11,
     "metadata": {},
     "output_type": "execute_result"
    }
   ],
   "source": [
    "enaho = pd.merge(enaho_dwelling, enaho_summary, how='left', on=['year', 'conglomerate', 'house', 'household', 'IDDIST'])\n",
    "enaho.head()"
   ]
  },
  {
   "cell_type": "code",
   "execution_count": 21,
   "metadata": {},
   "outputs": [],
   "source": [
    "enaho['hh members weight'] = enaho['household weight'] * enaho['num_hh_members']"
   ]
  },
  {
   "cell_type": "code",
   "execution_count": 22,
   "metadata": {},
   "outputs": [],
   "source": [
    "enaho.loc[enaho['access to water'] == 'red pública, dentro de la vivienda', 'piped water inside the house'] = 1\n",
    "enaho.loc[enaho['access to water'] != 'red pública, dentro de la vivienda', 'piped water inside the house'] = 0"
   ]
  },
  {
   "cell_type": "code",
   "execution_count": 23,
   "metadata": {},
   "outputs": [],
   "source": [
    "enaho.loc[enaho['access to water'] == 'red pública, fuera de la vivienda pero dentro del edificio', 'piped water outside the house, inside the property'] = 1\n",
    "enaho.loc[enaho['access to water'] != 'red pública, fuera de la vivienda pero dentro del edificio', 'piped water outside the house, inside the property'] = 0"
   ]
  },
  {
   "cell_type": "code",
   "execution_count": 24,
   "metadata": {},
   "outputs": [],
   "source": [
    "enaho.loc[enaho['access to water'] == 'camión - cisterna u otro similar', 'tanker truck'] = 1\n",
    "enaho.loc[enaho['access to water'] != 'camión - cisterna u otro similar', 'tanker truck'] = 0"
   ]
  },
  {
   "cell_type": "code",
   "execution_count": 25,
   "metadata": {},
   "outputs": [],
   "source": [
    "enaho.loc[(enaho['access to water'] == 'pilón de uso público') | (enaho['access to water'] == 'pilón o pileta de uso público'), 'public water reservoir'] = 1\n",
    "enaho.loc[(enaho['access to water'] != 'pilón de uso público') & (enaho['access to water'] != 'pilón o pileta de uso público'), 'public water reservoir'] = 0"
   ]
  },
  {
   "cell_type": "code",
   "execution_count": 26,
   "metadata": {},
   "outputs": [],
   "source": [
    "enaho.loc[(enaho['access to water'] == 'pozo') | (enaho['access to water'] == 'pozo (agua subterranea)'), 'water well'] = 1\n",
    "enaho.loc[(enaho['access to water'] != 'pozo') & (enaho['access to water'] != 'pozo (agua subterranea)'), 'water well'] = 0"
   ]
  },
  {
   "cell_type": "code",
   "execution_count": 27,
   "metadata": {},
   "outputs": [],
   "source": [
    "enaho.loc[enaho['access to water'] == 'río, acequia, manantial o similar', 'river or water stream'] = 1\n",
    "enaho.loc[enaho['access to water'] != 'río, acequia, manantial o similar', 'river or water stream'] = 0"
   ]
  },
  {
   "cell_type": "code",
   "execution_count": 28,
   "metadata": {},
   "outputs": [],
   "source": [
    "enaho.loc[enaho['access to water'] == 'otra', 'others'] = 1\n",
    "enaho.loc[enaho['access to water'] != 'otra', 'others'] = 0"
   ]
  }
 ],
 "metadata": {
  "kernelspec": {
   "display_name": "Python 3",
   "language": "python",
   "name": "python3"
  },
  "language_info": {
   "codemirror_mode": {
    "name": "ipython",
    "version": 3
   },
   "file_extension": ".py",
   "mimetype": "text/x-python",
   "name": "python",
   "nbconvert_exporter": "python",
   "pygments_lexer": "ipython3",
   "version": "3.6.9"
  }
 },
 "nbformat": 4,
 "nbformat_minor": 2
}
